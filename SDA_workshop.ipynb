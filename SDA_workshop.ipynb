{
 "cells": [
  {
   "cell_type": "markdown",
   "metadata": {
    "id": "kPCJxfHOMe6q"
   },
   "source": [
    "## Project's Description"
   ]
  },
  {
   "cell_type": "markdown",
   "metadata": {
    "id": "461lHd3IGvNT"
   },
   "source": [
    "**Content**\n",
    "The Global Health Observatory (GHO) data repository under World Health Organization (WHO) keeps track of the health status as well as many other related factors for all countries <br>\n",
    "\n",
    "The data-set related to life expectancy, health factors for 193 countries has been collected from the same WHO data repository website and its corresponding economic data was collected from United Nation website. <br>\n",
    "\n",
    "In this project we have considered data from year 2000-2015 for 193 countries for further analysis. The final dataset consists of 22 Columns and 2938 rows which meant 20 predicting variables."
   ]
  },
  {
   "cell_type": "markdown",
   "metadata": {
    "id": "Ol2M6WQog1EB"
   },
   "source": [
    "**Variable Descriptions **<br>\n",
    "1. **country** (Nominal) - the country in which the indicators are from (i.e. United States of America or Congo) <br>\n",
    "2. **year**(Ordinal) - the calendar year the indicators are from (ranging from 2000 to 2015) <br>\n",
    "3. **status** (Nominal) - whether a country is considered to be 'Developing' or 'Developed' by WHO standards\n",
    "4. **life_expectancy** (Ratio) - the life expectancy of people in years for a particular country and year\n",
    "5. **adult_mortality** (Ratio) - the adult mortality rate per 1000 population (i.e. number of people dying between 15 and 60 years per 1000 population); if the rate is 263 then that means 263 people will die out of 1000 between the ages of 15 and 60; another way to think of this is that the chance an individual will die between 15 and 60 is 26.3%\n",
    "\n",
    "6. **infant_deaths** (Ratio) - number of infant deaths per 1000 population; similar to above, but for infants\n",
    "\n",
    "7. **alcohol**(Ratio) - a country's alcohol consumption rate measured as liters of pure alcohol consumption per capita\n",
    "\n",
    "8. **percentage_expenditure** (Ratio) - expenditure on health as a percentage of Gross Domestic Product (gdp)\n",
    "9. **hepatitis_b** (Ratio) - number of 1 year olds with Hepatitis B immunization over all 1 year olds in population\n",
    "10. **measles** (Ratio) - number of reported Measles cases per 1000 population\n",
    "11. **bmi** (Interval/Ordinal) - average Body Mass Index (BMI) of a country's total population\n",
    "12. **under-five_deaths** (Ratio) - number of people under the age of five deaths per 1000 population\n",
    "13. **polio** (Ratio) - number of 1 year olds with Polio immunization over the number of all 1 year olds in population\n",
    "14. **total_expenditure** (Ratio) - government expenditure on health as a percentage of total government expenditure\n",
    "15. **diphtheria** (Ratio) - Diphtheria tetanus toxoid and pertussis (DTP3) immunization rate of 1 year olds\n",
    "16. **hiv/aids** (Ratio) - deaths per 1000 live births caused by HIV/AIDS for people under 5; number of people under 5 who die due to HIV/AIDS per 1000 births\n",
    "17. **gdp** (Ratio) - Gross Domestic Product per capita\n",
    "18. **population** (Ratio) - population of a country\n",
    "19. **thinness_1-19_years** (Ratio) - rate of thinness among people aged 10-19 (Note: variable should be renamed to thinness_10-19_years to more accurately represent the variable)\n",
    "20. **thinness_5-9_years** (Ratio) - rate of thinness among people aged 5-9\n",
    "21. **income_composition_of_resources** (Ratio) - Human Development Index in terms of income composition of resources (index ranging from 0 to 1)\n",
    "22. **schooling** (Ratio) - average number of years of schooling of a population\n",
    "\n"
   ]
  },
  {
   "cell_type": "markdown",
   "metadata": {
    "id": "hH0onhQvIixO"
   },
   "source": [
    "**Intro** <br>\n",
    "..... Today we will be  DA consultants for WHO. In particular WHO is interested what is the difference in general health indicators between developed and developing countries, especially in terms of economic development/expenditure and immunization.  Also WHO's previous approach included BMI and body weight related measures, but now they're sure that averages of these indicators are the same for both categories, thus, these parameters should not be included in their methodology anymore. \n",
    "\n",
    "Today  and on the next workshop we will:\n",
    "1. See how average life expectancy is different for developed/developing countries\n",
    "2. Identify countries that are in \"risk\" zone for mortality.\n",
    "3. Try to find a paradox in GDP vs expenditure on health within developed/developing\n",
    "4. Create a \"profile analysis\" for immunization in developed/developing countries \n",
    "5. Check whether BMI and body weight related measure should be included in the methodology of WHO "
   ]
  },
  {
   "cell_type": "markdown",
   "metadata": {
    "id": "Es1yQvj-UaEg"
   },
   "source": [
    "**Why WHO needs that?**\n",
    "One of the goals of WHO is helping countries in creating better health programs. Over the years they've created several methods on analyzing which parameters work better/worse for specific countries. They have already filtered out some of the parameters that they're particular interested what is the difference in general health indicators between developed and developing countries, especially in terms of economic development/expenditure and immunization. If WHO knows which indicators are the same for two types of countires and which are different, it will help them to adjust recommendations for types of countries, make them more unique."
   ]
  },
  {
   "cell_type": "code",
   "execution_count": 1,
   "metadata": {
    "ExecuteTime": {
     "end_time": "2022-12-17T11:50:29.910573Z",
     "start_time": "2022-12-17T11:50:28.628880Z"
    },
    "id": "Ngs7KG6e3nKq"
   },
   "outputs": [],
   "source": [
    "# needed libraries\n",
    "import pandas as pd\n",
    "import matplotlib.pyplot as plt\n",
    "import numpy as np    \n",
    "import seaborn as sns"
   ]
  },
  {
   "cell_type": "markdown",
   "metadata": {
    "id": "JaBAoHn6GY21"
   },
   "source": []
  },
  {
   "cell_type": "code",
   "execution_count": 2,
   "metadata": {
    "ExecuteTime": {
     "end_time": "2022-12-17T11:50:29.926956Z",
     "start_time": "2022-12-17T11:50:29.912917Z"
    },
    "id": "1s1xm0V94oJr"
   },
   "outputs": [],
   "source": [
    "data=pd.read_csv('Life Expectancy Data.csv',sep=',')"
   ]
  },
  {
   "cell_type": "code",
   "execution_count": 3,
   "metadata": {
    "ExecuteTime": {
     "end_time": "2022-12-17T11:50:29.932705Z",
     "start_time": "2022-12-17T11:50:29.929479Z"
    },
    "id": "zyousT0wqdPU"
   },
   "outputs": [],
   "source": [
    "#renaming columns\n",
    "data.columns=data.columns.str.lower()\n",
    "data.columns=data.columns.str.replace(' ','_')"
   ]
  },
  {
   "cell_type": "code",
   "execution_count": 4,
   "metadata": {
    "ExecuteTime": {
     "end_time": "2022-12-17T11:50:29.959196Z",
     "start_time": "2022-12-17T11:50:29.934651Z"
    },
    "colab": {
     "base_uri": "https://localhost:8080/",
     "height": 241
    },
    "id": "6zvtCPNxgz80",
    "outputId": "8cd8f46b-11ad-41d2-9f87-26a712835339"
   },
   "outputs": [
    {
     "data": {
      "text/html": [
       "<div>\n",
       "<style scoped>\n",
       "    .dataframe tbody tr th:only-of-type {\n",
       "        vertical-align: middle;\n",
       "    }\n",
       "\n",
       "    .dataframe tbody tr th {\n",
       "        vertical-align: top;\n",
       "    }\n",
       "\n",
       "    .dataframe thead th {\n",
       "        text-align: right;\n",
       "    }\n",
       "</style>\n",
       "<table border=\"1\" class=\"dataframe\">\n",
       "  <thead>\n",
       "    <tr style=\"text-align: right;\">\n",
       "      <th></th>\n",
       "      <th>country</th>\n",
       "      <th>year</th>\n",
       "      <th>status</th>\n",
       "      <th>life_expectancy_</th>\n",
       "      <th>adult_mortality</th>\n",
       "      <th>infant_deaths</th>\n",
       "      <th>alcohol</th>\n",
       "      <th>percentage_expenditure</th>\n",
       "      <th>hepatitis_b</th>\n",
       "      <th>measles_</th>\n",
       "      <th>...</th>\n",
       "      <th>polio</th>\n",
       "      <th>total_expenditure</th>\n",
       "      <th>diphtheria_</th>\n",
       "      <th>_hiv/aids</th>\n",
       "      <th>gdp</th>\n",
       "      <th>population</th>\n",
       "      <th>_thinness__1-19_years</th>\n",
       "      <th>_thinness_5-9_years</th>\n",
       "      <th>income_composition_of_resources</th>\n",
       "      <th>schooling</th>\n",
       "    </tr>\n",
       "  </thead>\n",
       "  <tbody>\n",
       "    <tr>\n",
       "      <th>0</th>\n",
       "      <td>Afghanistan</td>\n",
       "      <td>2015</td>\n",
       "      <td>Developing</td>\n",
       "      <td>65.0</td>\n",
       "      <td>263.0</td>\n",
       "      <td>62</td>\n",
       "      <td>0.01</td>\n",
       "      <td>71.279624</td>\n",
       "      <td>65.0</td>\n",
       "      <td>1154</td>\n",
       "      <td>...</td>\n",
       "      <td>6.0</td>\n",
       "      <td>8.16</td>\n",
       "      <td>65.0</td>\n",
       "      <td>0.1</td>\n",
       "      <td>584.259210</td>\n",
       "      <td>33736494.0</td>\n",
       "      <td>17.2</td>\n",
       "      <td>17.3</td>\n",
       "      <td>0.479</td>\n",
       "      <td>10.1</td>\n",
       "    </tr>\n",
       "    <tr>\n",
       "      <th>1</th>\n",
       "      <td>Afghanistan</td>\n",
       "      <td>2014</td>\n",
       "      <td>Developing</td>\n",
       "      <td>59.9</td>\n",
       "      <td>271.0</td>\n",
       "      <td>64</td>\n",
       "      <td>0.01</td>\n",
       "      <td>73.523582</td>\n",
       "      <td>62.0</td>\n",
       "      <td>492</td>\n",
       "      <td>...</td>\n",
       "      <td>58.0</td>\n",
       "      <td>8.18</td>\n",
       "      <td>62.0</td>\n",
       "      <td>0.1</td>\n",
       "      <td>612.696514</td>\n",
       "      <td>327582.0</td>\n",
       "      <td>17.5</td>\n",
       "      <td>17.5</td>\n",
       "      <td>0.476</td>\n",
       "      <td>10.0</td>\n",
       "    </tr>\n",
       "    <tr>\n",
       "      <th>2</th>\n",
       "      <td>Afghanistan</td>\n",
       "      <td>2013</td>\n",
       "      <td>Developing</td>\n",
       "      <td>59.9</td>\n",
       "      <td>268.0</td>\n",
       "      <td>66</td>\n",
       "      <td>0.01</td>\n",
       "      <td>73.219243</td>\n",
       "      <td>64.0</td>\n",
       "      <td>430</td>\n",
       "      <td>...</td>\n",
       "      <td>62.0</td>\n",
       "      <td>8.13</td>\n",
       "      <td>64.0</td>\n",
       "      <td>0.1</td>\n",
       "      <td>631.744976</td>\n",
       "      <td>31731688.0</td>\n",
       "      <td>17.7</td>\n",
       "      <td>17.7</td>\n",
       "      <td>0.470</td>\n",
       "      <td>9.9</td>\n",
       "    </tr>\n",
       "    <tr>\n",
       "      <th>3</th>\n",
       "      <td>Afghanistan</td>\n",
       "      <td>2012</td>\n",
       "      <td>Developing</td>\n",
       "      <td>59.5</td>\n",
       "      <td>272.0</td>\n",
       "      <td>69</td>\n",
       "      <td>0.01</td>\n",
       "      <td>78.184215</td>\n",
       "      <td>67.0</td>\n",
       "      <td>2787</td>\n",
       "      <td>...</td>\n",
       "      <td>67.0</td>\n",
       "      <td>8.52</td>\n",
       "      <td>67.0</td>\n",
       "      <td>0.1</td>\n",
       "      <td>669.959000</td>\n",
       "      <td>3696958.0</td>\n",
       "      <td>17.9</td>\n",
       "      <td>18.0</td>\n",
       "      <td>0.463</td>\n",
       "      <td>9.8</td>\n",
       "    </tr>\n",
       "    <tr>\n",
       "      <th>4</th>\n",
       "      <td>Afghanistan</td>\n",
       "      <td>2011</td>\n",
       "      <td>Developing</td>\n",
       "      <td>59.2</td>\n",
       "      <td>275.0</td>\n",
       "      <td>71</td>\n",
       "      <td>0.01</td>\n",
       "      <td>7.097109</td>\n",
       "      <td>68.0</td>\n",
       "      <td>3013</td>\n",
       "      <td>...</td>\n",
       "      <td>68.0</td>\n",
       "      <td>7.87</td>\n",
       "      <td>68.0</td>\n",
       "      <td>0.1</td>\n",
       "      <td>63.537231</td>\n",
       "      <td>2978599.0</td>\n",
       "      <td>18.2</td>\n",
       "      <td>18.2</td>\n",
       "      <td>0.454</td>\n",
       "      <td>9.5</td>\n",
       "    </tr>\n",
       "  </tbody>\n",
       "</table>\n",
       "<p>5 rows × 22 columns</p>\n",
       "</div>"
      ],
      "text/plain": [
       "       country  year      status  life_expectancy_  adult_mortality  \\\n",
       "0  Afghanistan  2015  Developing              65.0            263.0   \n",
       "1  Afghanistan  2014  Developing              59.9            271.0   \n",
       "2  Afghanistan  2013  Developing              59.9            268.0   \n",
       "3  Afghanistan  2012  Developing              59.5            272.0   \n",
       "4  Afghanistan  2011  Developing              59.2            275.0   \n",
       "\n",
       "   infant_deaths  alcohol  percentage_expenditure  hepatitis_b  measles_  ...  \\\n",
       "0             62     0.01               71.279624         65.0      1154  ...   \n",
       "1             64     0.01               73.523582         62.0       492  ...   \n",
       "2             66     0.01               73.219243         64.0       430  ...   \n",
       "3             69     0.01               78.184215         67.0      2787  ...   \n",
       "4             71     0.01                7.097109         68.0      3013  ...   \n",
       "\n",
       "   polio  total_expenditure  diphtheria_  _hiv/aids         gdp  population  \\\n",
       "0    6.0               8.16         65.0        0.1  584.259210  33736494.0   \n",
       "1   58.0               8.18         62.0        0.1  612.696514    327582.0   \n",
       "2   62.0               8.13         64.0        0.1  631.744976  31731688.0   \n",
       "3   67.0               8.52         67.0        0.1  669.959000   3696958.0   \n",
       "4   68.0               7.87         68.0        0.1   63.537231   2978599.0   \n",
       "\n",
       "   _thinness__1-19_years  _thinness_5-9_years  \\\n",
       "0                   17.2                 17.3   \n",
       "1                   17.5                 17.5   \n",
       "2                   17.7                 17.7   \n",
       "3                   17.9                 18.0   \n",
       "4                   18.2                 18.2   \n",
       "\n",
       "   income_composition_of_resources  schooling  \n",
       "0                            0.479       10.1  \n",
       "1                            0.476       10.0  \n",
       "2                            0.470        9.9  \n",
       "3                            0.463        9.8  \n",
       "4                            0.454        9.5  \n",
       "\n",
       "[5 rows x 22 columns]"
      ]
     },
     "execution_count": 4,
     "metadata": {},
     "output_type": "execute_result"
    }
   ],
   "source": [
    "data.head()"
   ]
  },
  {
   "cell_type": "code",
   "execution_count": 5,
   "metadata": {
    "ExecuteTime": {
     "end_time": "2022-12-17T11:50:29.966736Z",
     "start_time": "2022-12-17T11:50:29.960930Z"
    },
    "colab": {
     "base_uri": "https://localhost:8080/"
    },
    "id": "ZgXE7FpZ_UFU",
    "outputId": "f349fe6f-3339-4fe9-e164-bd22d275dde8"
   },
   "outputs": [
    {
     "data": {
      "text/plain": [
       "status\n",
       "Developed      32\n",
       "Developing    161\n",
       "Name: country, dtype: int64"
      ]
     },
     "execution_count": 5,
     "metadata": {},
     "output_type": "execute_result"
    }
   ],
   "source": [
    "data.groupby(['status'])['country'].nunique()"
   ]
  },
  {
   "cell_type": "markdown",
   "metadata": {
    "id": "LdeM0bAh_cOu"
   },
   "source": [
    "### EDA"
   ]
  },
  {
   "cell_type": "code",
   "execution_count": 6,
   "metadata": {
    "ExecuteTime": {
     "end_time": "2022-12-17T11:50:29.974632Z",
     "start_time": "2022-12-17T11:50:29.968946Z"
    },
    "colab": {
     "base_uri": "https://localhost:8080/"
    },
    "id": "2gtdWvtz_fCJ",
    "outputId": "53034b22-b77b-41d3-b81e-26054abda44f"
   },
   "outputs": [
    {
     "data": {
      "text/plain": [
       "country                              0\n",
       "year                                 0\n",
       "status                               0\n",
       "life_expectancy_                    10\n",
       "adult_mortality                     10\n",
       "infant_deaths                        0\n",
       "alcohol                            194\n",
       "percentage_expenditure               0\n",
       "hepatitis_b                        553\n",
       "measles_                             0\n",
       "_bmi_                               34\n",
       "under-five_deaths_                   0\n",
       "polio                               19\n",
       "total_expenditure                  226\n",
       "diphtheria_                         19\n",
       "_hiv/aids                            0\n",
       "gdp                                448\n",
       "population                         652\n",
       "_thinness__1-19_years               34\n",
       "_thinness_5-9_years                 34\n",
       "income_composition_of_resources    167\n",
       "schooling                          163\n",
       "dtype: int64"
      ]
     },
     "execution_count": 6,
     "metadata": {},
     "output_type": "execute_result"
    }
   ],
   "source": [
    "data.isnull().sum()"
   ]
  },
  {
   "cell_type": "code",
   "execution_count": 7,
   "metadata": {
    "ExecuteTime": {
     "end_time": "2022-12-17T11:50:30.170379Z",
     "start_time": "2022-12-17T11:50:30.164248Z"
    },
    "colab": {
     "base_uri": "https://localhost:8080/"
    },
    "id": "z60V-xAF-liJ",
    "outputId": "671a2d05-815a-4c2a-ee4f-a28bc5e9307b"
   },
   "outputs": [
    {
     "data": {
      "text/plain": [
       "0.4387338325391423"
      ]
     },
     "execution_count": 7,
     "metadata": {},
     "output_type": "execute_result"
    }
   ],
   "source": [
    "len(data[data.isnull().any(axis=1)])/len(data)"
   ]
  },
  {
   "cell_type": "markdown",
   "metadata": {
    "id": "thLV-nHh_qp8"
   },
   "source": [
    "43% of rows has at least one missing value. Since we're gonna use a lot of parameters, won't drop /replace missing values"
   ]
  },
  {
   "cell_type": "code",
   "execution_count": 8,
   "metadata": {
    "ExecuteTime": {
     "end_time": "2022-12-17T11:50:30.595551Z",
     "start_time": "2022-12-17T11:50:30.550326Z"
    },
    "colab": {
     "base_uri": "https://localhost:8080/",
     "height": 669
    },
    "id": "Sgpz_AcXAQ8l",
    "outputId": "a78e2d8b-e440-4543-e8b8-807742c62199"
   },
   "outputs": [
    {
     "data": {
      "text/html": [
       "<div>\n",
       "<style scoped>\n",
       "    .dataframe tbody tr th:only-of-type {\n",
       "        vertical-align: middle;\n",
       "    }\n",
       "\n",
       "    .dataframe tbody tr th {\n",
       "        vertical-align: top;\n",
       "    }\n",
       "\n",
       "    .dataframe thead th {\n",
       "        text-align: right;\n",
       "    }\n",
       "</style>\n",
       "<table border=\"1\" class=\"dataframe\">\n",
       "  <thead>\n",
       "    <tr style=\"text-align: right;\">\n",
       "      <th></th>\n",
       "      <th>count</th>\n",
       "      <th>mean</th>\n",
       "      <th>std</th>\n",
       "      <th>min</th>\n",
       "      <th>25%</th>\n",
       "      <th>50%</th>\n",
       "      <th>75%</th>\n",
       "      <th>max</th>\n",
       "    </tr>\n",
       "  </thead>\n",
       "  <tbody>\n",
       "    <tr>\n",
       "      <th>year</th>\n",
       "      <td>2938</td>\n",
       "      <td>2007</td>\n",
       "      <td>4</td>\n",
       "      <td>2000</td>\n",
       "      <td>2004</td>\n",
       "      <td>2008</td>\n",
       "      <td>2012</td>\n",
       "      <td>2015</td>\n",
       "    </tr>\n",
       "    <tr>\n",
       "      <th>life_expectancy_</th>\n",
       "      <td>2928</td>\n",
       "      <td>69</td>\n",
       "      <td>9</td>\n",
       "      <td>36</td>\n",
       "      <td>63</td>\n",
       "      <td>72</td>\n",
       "      <td>75</td>\n",
       "      <td>89</td>\n",
       "    </tr>\n",
       "    <tr>\n",
       "      <th>adult_mortality</th>\n",
       "      <td>2928</td>\n",
       "      <td>164</td>\n",
       "      <td>124</td>\n",
       "      <td>1</td>\n",
       "      <td>74</td>\n",
       "      <td>144</td>\n",
       "      <td>228</td>\n",
       "      <td>723</td>\n",
       "    </tr>\n",
       "    <tr>\n",
       "      <th>infant_deaths</th>\n",
       "      <td>2938</td>\n",
       "      <td>30</td>\n",
       "      <td>117</td>\n",
       "      <td>0</td>\n",
       "      <td>0</td>\n",
       "      <td>3</td>\n",
       "      <td>22</td>\n",
       "      <td>1800</td>\n",
       "    </tr>\n",
       "    <tr>\n",
       "      <th>alcohol</th>\n",
       "      <td>2744</td>\n",
       "      <td>4</td>\n",
       "      <td>4</td>\n",
       "      <td>0</td>\n",
       "      <td>0</td>\n",
       "      <td>3</td>\n",
       "      <td>7</td>\n",
       "      <td>17</td>\n",
       "    </tr>\n",
       "    <tr>\n",
       "      <th>percentage_expenditure</th>\n",
       "      <td>2938</td>\n",
       "      <td>738</td>\n",
       "      <td>1987</td>\n",
       "      <td>0</td>\n",
       "      <td>4</td>\n",
       "      <td>64</td>\n",
       "      <td>441</td>\n",
       "      <td>19479</td>\n",
       "    </tr>\n",
       "    <tr>\n",
       "      <th>hepatitis_b</th>\n",
       "      <td>2385</td>\n",
       "      <td>80</td>\n",
       "      <td>25</td>\n",
       "      <td>1</td>\n",
       "      <td>77</td>\n",
       "      <td>92</td>\n",
       "      <td>97</td>\n",
       "      <td>99</td>\n",
       "    </tr>\n",
       "    <tr>\n",
       "      <th>measles_</th>\n",
       "      <td>2938</td>\n",
       "      <td>2419</td>\n",
       "      <td>11467</td>\n",
       "      <td>0</td>\n",
       "      <td>0</td>\n",
       "      <td>17</td>\n",
       "      <td>360</td>\n",
       "      <td>212183</td>\n",
       "    </tr>\n",
       "    <tr>\n",
       "      <th>_bmi_</th>\n",
       "      <td>2904</td>\n",
       "      <td>38</td>\n",
       "      <td>20</td>\n",
       "      <td>1</td>\n",
       "      <td>19</td>\n",
       "      <td>43</td>\n",
       "      <td>56</td>\n",
       "      <td>87</td>\n",
       "    </tr>\n",
       "    <tr>\n",
       "      <th>under-five_deaths_</th>\n",
       "      <td>2938</td>\n",
       "      <td>42</td>\n",
       "      <td>160</td>\n",
       "      <td>0</td>\n",
       "      <td>0</td>\n",
       "      <td>4</td>\n",
       "      <td>28</td>\n",
       "      <td>2500</td>\n",
       "    </tr>\n",
       "    <tr>\n",
       "      <th>polio</th>\n",
       "      <td>2919</td>\n",
       "      <td>82</td>\n",
       "      <td>23</td>\n",
       "      <td>3</td>\n",
       "      <td>78</td>\n",
       "      <td>93</td>\n",
       "      <td>97</td>\n",
       "      <td>99</td>\n",
       "    </tr>\n",
       "    <tr>\n",
       "      <th>total_expenditure</th>\n",
       "      <td>2712</td>\n",
       "      <td>5</td>\n",
       "      <td>2</td>\n",
       "      <td>0</td>\n",
       "      <td>4</td>\n",
       "      <td>5</td>\n",
       "      <td>7</td>\n",
       "      <td>17</td>\n",
       "    </tr>\n",
       "    <tr>\n",
       "      <th>diphtheria_</th>\n",
       "      <td>2919</td>\n",
       "      <td>82</td>\n",
       "      <td>23</td>\n",
       "      <td>2</td>\n",
       "      <td>78</td>\n",
       "      <td>93</td>\n",
       "      <td>97</td>\n",
       "      <td>99</td>\n",
       "    </tr>\n",
       "    <tr>\n",
       "      <th>_hiv/aids</th>\n",
       "      <td>2938</td>\n",
       "      <td>1</td>\n",
       "      <td>5</td>\n",
       "      <td>0</td>\n",
       "      <td>0</td>\n",
       "      <td>0</td>\n",
       "      <td>0</td>\n",
       "      <td>50</td>\n",
       "    </tr>\n",
       "    <tr>\n",
       "      <th>gdp</th>\n",
       "      <td>2490</td>\n",
       "      <td>7483</td>\n",
       "      <td>14270</td>\n",
       "      <td>1</td>\n",
       "      <td>463</td>\n",
       "      <td>1766</td>\n",
       "      <td>5910</td>\n",
       "      <td>119172</td>\n",
       "    </tr>\n",
       "    <tr>\n",
       "      <th>population</th>\n",
       "      <td>2286</td>\n",
       "      <td>12753375</td>\n",
       "      <td>61012096</td>\n",
       "      <td>34</td>\n",
       "      <td>195793</td>\n",
       "      <td>1386542</td>\n",
       "      <td>7420359</td>\n",
       "      <td>1293859294</td>\n",
       "    </tr>\n",
       "    <tr>\n",
       "      <th>_thinness__1-19_years</th>\n",
       "      <td>2904</td>\n",
       "      <td>4</td>\n",
       "      <td>4</td>\n",
       "      <td>0</td>\n",
       "      <td>1</td>\n",
       "      <td>3</td>\n",
       "      <td>7</td>\n",
       "      <td>27</td>\n",
       "    </tr>\n",
       "    <tr>\n",
       "      <th>_thinness_5-9_years</th>\n",
       "      <td>2904</td>\n",
       "      <td>4</td>\n",
       "      <td>4</td>\n",
       "      <td>0</td>\n",
       "      <td>1</td>\n",
       "      <td>3</td>\n",
       "      <td>7</td>\n",
       "      <td>28</td>\n",
       "    </tr>\n",
       "    <tr>\n",
       "      <th>income_composition_of_resources</th>\n",
       "      <td>2771</td>\n",
       "      <td>0</td>\n",
       "      <td>0</td>\n",
       "      <td>0</td>\n",
       "      <td>0</td>\n",
       "      <td>0</td>\n",
       "      <td>0</td>\n",
       "      <td>0</td>\n",
       "    </tr>\n",
       "    <tr>\n",
       "      <th>schooling</th>\n",
       "      <td>2775</td>\n",
       "      <td>11</td>\n",
       "      <td>3</td>\n",
       "      <td>0</td>\n",
       "      <td>10</td>\n",
       "      <td>12</td>\n",
       "      <td>14</td>\n",
       "      <td>20</td>\n",
       "    </tr>\n",
       "  </tbody>\n",
       "</table>\n",
       "</div>"
      ],
      "text/plain": [
       "                                 count      mean       std   min     25%  \\\n",
       "year                              2938      2007         4  2000    2004   \n",
       "life_expectancy_                  2928        69         9    36      63   \n",
       "adult_mortality                   2928       164       124     1      74   \n",
       "infant_deaths                     2938        30       117     0       0   \n",
       "alcohol                           2744         4         4     0       0   \n",
       "percentage_expenditure            2938       738      1987     0       4   \n",
       "hepatitis_b                       2385        80        25     1      77   \n",
       "measles_                          2938      2419     11467     0       0   \n",
       "_bmi_                             2904        38        20     1      19   \n",
       "under-five_deaths_                2938        42       160     0       0   \n",
       "polio                             2919        82        23     3      78   \n",
       "total_expenditure                 2712         5         2     0       4   \n",
       "diphtheria_                       2919        82        23     2      78   \n",
       "_hiv/aids                         2938         1         5     0       0   \n",
       "gdp                               2490      7483     14270     1     463   \n",
       "population                        2286  12753375  61012096    34  195793   \n",
       "_thinness__1-19_years             2904         4         4     0       1   \n",
       "_thinness_5-9_years               2904         4         4     0       1   \n",
       "income_composition_of_resources   2771         0         0     0       0   \n",
       "schooling                         2775        11         3     0      10   \n",
       "\n",
       "                                     50%      75%         max  \n",
       "year                                2008     2012        2015  \n",
       "life_expectancy_                      72       75          89  \n",
       "adult_mortality                      144      228         723  \n",
       "infant_deaths                          3       22        1800  \n",
       "alcohol                                3        7          17  \n",
       "percentage_expenditure                64      441       19479  \n",
       "hepatitis_b                           92       97          99  \n",
       "measles_                              17      360      212183  \n",
       "_bmi_                                 43       56          87  \n",
       "under-five_deaths_                     4       28        2500  \n",
       "polio                                 93       97          99  \n",
       "total_expenditure                      5        7          17  \n",
       "diphtheria_                           93       97          99  \n",
       "_hiv/aids                              0        0          50  \n",
       "gdp                                 1766     5910      119172  \n",
       "population                       1386542  7420359  1293859294  \n",
       "_thinness__1-19_years                  3        7          27  \n",
       "_thinness_5-9_years                    3        7          28  \n",
       "income_composition_of_resources        0        0           0  \n",
       "schooling                             12       14          20  "
      ]
     },
     "execution_count": 8,
     "metadata": {},
     "output_type": "execute_result"
    }
   ],
   "source": [
    "data.describe().T.astype(int)"
   ]
  },
  {
   "cell_type": "markdown",
   "metadata": {
    "id": "eh7xX5f6o_a0"
   },
   "source": [
    "### **Task 1:** How is life expectancy distributed?What is the world average life expectancy ? Is it the same for our categories? How are they different?"
   ]
  },
  {
   "cell_type": "code",
   "execution_count": 9,
   "metadata": {
    "ExecuteTime": {
     "end_time": "2022-12-17T11:50:31.485187Z",
     "start_time": "2022-12-17T11:50:31.036344Z"
    },
    "colab": {
     "base_uri": "https://localhost:8080/",
     "height": 282
    },
    "id": "bT5HuMf9qVjY",
    "outputId": "d87b89e9-22b1-40df-9f5c-1faab632a088"
   },
   "outputs": [
    {
     "data": {
      "text/plain": [
       "<matplotlib.axes._subplots.AxesSubplot at 0x7fa90698ee90>"
      ]
     },
     "execution_count": 9,
     "metadata": {},
     "output_type": "execute_result"
    },
    {
     "data": {
      "image/png": "[encoded data removed]",
      "text/plain": [
       "<Figure size 432x288 with 1 Axes>"
      ]
     },
     "metadata": {
      "needs_background": "light"
     },
     "output_type": "display_data"
    }
   ],
   "source": [
    "data.life_expectancy_.hist()"
   ]
  },
  {
   "cell_type": "code",
   "execution_count": 10,
   "metadata": {
    "ExecuteTime": {
     "end_time": "2022-12-17T11:50:31.490203Z",
     "start_time": "2022-12-17T11:50:31.487044Z"
    },
    "colab": {
     "base_uri": "https://localhost:8080/"
    },
    "id": "smhf_oVXqxLA",
    "outputId": "9008dca0-9320-4b68-befb-0aa087bfbe90"
   },
   "outputs": [
    {
     "name": "stdout",
     "output_type": "stream",
     "text": [
      "69.22493169398912\n",
      "72.1\n"
     ]
    }
   ],
   "source": [
    "print(data.life_expectancy_.mean())\n",
    "print(data.life_expectancy_.median())"
   ]
  },
  {
   "cell_type": "code",
   "execution_count": 11,
   "metadata": {
    "ExecuteTime": {
     "end_time": "2022-12-17T11:50:31.920495Z",
     "start_time": "2022-12-17T11:50:31.583022Z"
    },
    "colab": {
     "base_uri": "https://localhost:8080/",
     "height": 334
    },
    "id": "f9CXlZ91rDK2",
    "outputId": "045711e6-c0e4-4fc2-b14d-7246cdce4389"
   },
   "outputs": [
    {
     "data": {
      "text/plain": [
       "array([<matplotlib.axes._subplots.AxesSubplot object at 0x7fa908af5c10>,\n",
       "       <matplotlib.axes._subplots.AxesSubplot object at 0x7fa908b2b2d0>],\n",
       "      dtype=object)"
      ]
     },
     "execution_count": 11,
     "metadata": {},
     "output_type": "execute_result"
    },
    {
     "data": {
      "image/png": "[encoded data removed]",
      "text/plain": [
       "<Figure size 432x288 with 2 Axes>"
      ]
     },
     "metadata": {
      "needs_background": "light"
     },
     "output_type": "display_data"
    }
   ],
   "source": [
    "data.life_expectancy_.hist(by=data['status'])"
   ]
  },
  {
   "cell_type": "code",
   "execution_count": 12,
   "metadata": {
    "ExecuteTime": {
     "end_time": "2022-12-17T11:50:32.501944Z",
     "start_time": "2022-12-17T11:50:32.492300Z"
    },
    "colab": {
     "base_uri": "https://localhost:8080/",
     "height": 111
    },
    "id": "mYMajQpNsKoZ",
    "outputId": "2ff09ae2-175c-4050-c0f6-8b47bd0298b7"
   },
   "outputs": [
    {
     "data": {
      "text/html": [
       "<div>\n",
       "<style scoped>\n",
       "    .dataframe tbody tr th:only-of-type {\n",
       "        vertical-align: middle;\n",
       "    }\n",
       "\n",
       "    .dataframe tbody tr th {\n",
       "        vertical-align: top;\n",
       "    }\n",
       "\n",
       "    .dataframe thead th {\n",
       "        text-align: right;\n",
       "    }\n",
       "</style>\n",
       "<table border=\"1\" class=\"dataframe\">\n",
       "  <thead>\n",
       "    <tr style=\"text-align: right;\">\n",
       "      <th></th>\n",
       "      <th>status</th>\n",
       "      <th>mean</th>\n",
       "      <th>median</th>\n",
       "    </tr>\n",
       "  </thead>\n",
       "  <tbody>\n",
       "    <tr>\n",
       "      <th>0</th>\n",
       "      <td>Developed</td>\n",
       "      <td>79.197852</td>\n",
       "      <td>79.25</td>\n",
       "    </tr>\n",
       "    <tr>\n",
       "      <th>1</th>\n",
       "      <td>Developing</td>\n",
       "      <td>67.111465</td>\n",
       "      <td>69.00</td>\n",
       "    </tr>\n",
       "  </tbody>\n",
       "</table>\n",
       "</div>"
      ],
      "text/plain": [
       "       status       mean  median\n",
       "0   Developed  79.197852   79.25\n",
       "1  Developing  67.111465   69.00"
      ]
     },
     "execution_count": 12,
     "metadata": {},
     "output_type": "execute_result"
    }
   ],
   "source": [
    "data.groupby(['status'])['life_expectancy_'].agg(['mean','median']).reset_index()"
   ]
  },
  {
   "cell_type": "code",
   "execution_count": 13,
   "metadata": {
    "ExecuteTime": {
     "end_time": "2022-12-17T11:50:34.525453Z",
     "start_time": "2022-12-17T11:50:34.199946Z"
    },
    "colab": {
     "base_uri": "https://localhost:8080/",
     "height": 297
    },
    "id": "sCsMRCMtrrpc",
    "outputId": "be60beb8-3e1e-40bf-d820-1e3534e902f2"
   },
   "outputs": [
    {
     "data": {
      "text/plain": [
       "<matplotlib.axes._subplots.AxesSubplot at 0x7fa908b06110>"
      ]
     },
     "execution_count": 13,
     "metadata": {},
     "output_type": "execute_result"
    },
    {
     "data": {
      "image/png": "[encoded data removed]",
      "text/plain": [
       "<Figure size 432x288 with 1 Axes>"
      ]
     },
     "metadata": {
      "needs_background": "light"
     },
     "output_type": "display_data"
    }
   ],
   "source": [
    "import seaborn as sns\n",
    "sns.histplot(data, x=\"life_expectancy_\", hue=\"status\")"
   ]
  },
  {
   "cell_type": "markdown",
   "metadata": {
    "id": "KtbwGOFcsnNX"
   },
   "source": [
    "Since distribution are close to normal, mean and median should be close to each other. That's what we see in the table also. In this case we can choose either mean or median"
   ]
  },
  {
   "cell_type": "markdown",
   "metadata": {
    "id": "91XLii_QVZQm"
   },
   "source": [
    "**Conclusion on life expectancy for WHO:** <br>\n",
    "The average life expectancy for all data is 72 years, however the distribution is not normal and looks differenct for both types of countries. While for developed countries the expectancy 'starts' from 70s, for developing it can be lower than 40 and the difference in average life expectancy is 10 years. That is a big difference that should be reduced, so WHO needs to help developing countries to catch up"
   ]
  },
  {
   "cell_type": "markdown",
   "metadata": {
    "id": "gU1TtrWumseN"
   },
   "source": [
    "### Task 2:<br> Identify  risky countries in terms of mortality"
   ]
  },
  {
   "cell_type": "markdown",
   "metadata": {
    "id": "iOajNWORVZa4"
   },
   "source": [
    "**Which countries are in risk zones in terms of mortality? What is average mortality overall? By category?**<br>\n",
    " Country is in the risk zone if it's above higher average mortality rate.<br>\n",
    " **Find countries that are not in the risk zone overall but have higher than average mortality rate per group.**"
   ]
  },
  {
   "cell_type": "markdown",
   "metadata": {
    "id": "zWMn882fV4mi"
   },
   "source": [
    "\"*Let's start by taking a look at distribution of mortality rate per group*\""
   ]
  },
  {
   "cell_type": "code",
   "execution_count": 14,
   "metadata": {
    "ExecuteTime": {
     "end_time": "2022-12-17T11:52:49.838746Z",
     "start_time": "2022-12-17T11:52:49.450459Z"
    },
    "colab": {
     "base_uri": "https://localhost:8080/",
     "height": 297
    },
    "id": "ThKk263mtMST",
    "outputId": "f756383a-a78c-4113-ae5f-aff75b660e90"
   },
   "outputs": [
    {
     "data": {
      "text/plain": [
       "<matplotlib.axes._subplots.AxesSubplot at 0x7fa908eafb10>"
      ]
     },
     "execution_count": 14,
     "metadata": {},
     "output_type": "execute_result"
    },
    {
     "data": {
      "image/png": "[encoded data removed]",
      "text/plain": [
       "<Figure size 432x288 with 1 Axes>"
      ]
     },
     "metadata": {
      "needs_background": "light"
     },
     "output_type": "display_data"
    }
   ],
   "source": [
    "sns.histplot(data, x=\"adult_mortality\", hue=\"status\")"
   ]
  },
  {
   "cell_type": "markdown",
   "metadata": {
    "id": "cYzYVf5WwXR9"
   },
   "source": [
    "\"*What does this long tail mean for developing countries? Can you guess what is going to be bigger mean or median? Can you guess what group will have bigger difference mean vs median?*\""
   ]
  },
  {
   "cell_type": "code",
   "execution_count": 15,
   "metadata": {
    "ExecuteTime": {
     "end_time": "2022-12-17T11:54:29.843969Z",
     "start_time": "2022-12-17T11:54:29.835389Z"
    },
    "colab": {
     "base_uri": "https://localhost:8080/",
     "height": 142
    },
    "id": "NZFql-WstItg",
    "outputId": "25dce64d-a384-46d1-b040-9237fb671f52"
   },
   "outputs": [
    {
     "data": {
      "text/html": [
       "<div>\n",
       "<style scoped>\n",
       "    .dataframe tbody tr th:only-of-type {\n",
       "        vertical-align: middle;\n",
       "    }\n",
       "\n",
       "    .dataframe tbody tr th {\n",
       "        vertical-align: top;\n",
       "    }\n",
       "\n",
       "    .dataframe thead th {\n",
       "        text-align: right;\n",
       "    }\n",
       "</style>\n",
       "<table border=\"1\" class=\"dataframe\">\n",
       "  <thead>\n",
       "    <tr style=\"text-align: right;\">\n",
       "      <th></th>\n",
       "      <th>mean</th>\n",
       "      <th>median</th>\n",
       "    </tr>\n",
       "    <tr>\n",
       "      <th>status</th>\n",
       "      <th></th>\n",
       "      <th></th>\n",
       "    </tr>\n",
       "  </thead>\n",
       "  <tbody>\n",
       "    <tr>\n",
       "      <th>Developed</th>\n",
       "      <td>79.685547</td>\n",
       "      <td>73.0</td>\n",
       "    </tr>\n",
       "    <tr>\n",
       "      <th>Developing</th>\n",
       "      <td>182.833195</td>\n",
       "      <td>163.0</td>\n",
       "    </tr>\n",
       "  </tbody>\n",
       "</table>\n",
       "</div>"
      ],
      "text/plain": [
       "                  mean  median\n",
       "status                        \n",
       "Developed    79.685547    73.0\n",
       "Developing  182.833195   163.0"
      ]
     },
     "execution_count": 15,
     "metadata": {},
     "output_type": "execute_result"
    }
   ],
   "source": [
    "data.groupby(['status'])['adult_mortality'].agg(['mean','median'])"
   ]
  },
  {
   "cell_type": "markdown",
   "metadata": {
    "id": "krBEw9b2WvcI"
   },
   "source": [
    "\"*What is bigger - mean or median?For both cases ,mean, so it's positive skew (tail to the right)*\""
   ]
  },
  {
   "cell_type": "markdown",
   "metadata": {
    "id": "BrikdG93Yq1R"
   },
   "source": [
    "Now let's identify risky countries. For that let's create parameters that will represent average overall mortality rate and per group"
   ]
  },
  {
   "cell_type": "code",
   "execution_count": 16,
   "metadata": {
    "ExecuteTime": {
     "end_time": "2022-12-17T11:55:05.696408Z",
     "start_time": "2022-12-17T11:55:05.692697Z"
    },
    "colab": {
     "base_uri": "https://localhost:8080/"
    },
    "id": "1QGsO3_EvFQT",
    "outputId": "44929df0-ca26-4768-9ca1-9a7d4643e00a"
   },
   "outputs": [
    {
     "data": {
      "text/plain": [
       "144.0"
      ]
     },
     "execution_count": 16,
     "metadata": {},
     "output_type": "execute_result"
    }
   ],
   "source": [
    "overall_median=data.adult_mortality.median()\n",
    "overall_median"
   ]
  },
  {
   "cell_type": "code",
   "execution_count": 17,
   "metadata": {
    "ExecuteTime": {
     "end_time": "2022-12-17T11:55:12.430187Z",
     "start_time": "2022-12-17T11:55:12.416822Z"
    },
    "colab": {
     "base_uri": "https://localhost:8080/"
    },
    "id": "EksFrbARvNkT",
    "outputId": "58c31fe1-e4e7-497f-f1a1-9fc9056c9839"
   },
   "outputs": [
    {
     "name": "stdout",
     "output_type": "stream",
     "text": [
      "73.0\n",
      "163.0\n"
     ]
    }
   ],
   "source": [
    "developed_median=data.query('status==\"Developed\"')['adult_mortality'].median()\n",
    "developing_median=data.query('status==\"Developing\"')['adult_mortality'].median()\n",
    "print(developed_median)\n",
    "print(developing_median)"
   ]
  },
  {
   "cell_type": "code",
   "execution_count": 18,
   "metadata": {
    "ExecuteTime": {
     "end_time": "2022-12-17T11:55:51.144141Z",
     "start_time": "2022-12-17T11:55:51.135915Z"
    },
    "colab": {
     "base_uri": "https://localhost:8080/"
    },
    "id": "wHSAEB7Zvxj3",
    "outputId": "ee309054-af95-4609-de88-60b6020054ad"
   },
   "outputs": [
    {
     "data": {
      "text/plain": [
       "array(['Australia', 'Austria', 'Belgium', 'Bulgaria', 'Croatia',\n",
       "       'Czechia', 'Denmark', 'Germany', 'Hungary', 'Iceland', 'Ireland',\n",
       "       'Italy', 'Japan', 'Luxembourg', 'Malta', 'Netherlands',\n",
       "       'New Zealand', 'Norway', 'Poland', 'Portugal', 'Romania',\n",
       "       'Singapore', 'Slovakia', 'Slovenia', 'Spain', 'Switzerland',\n",
       "       'United Kingdom of Great Britain and Northern Ireland',\n",
       "       'United States of America'], dtype=object)"
      ]
     },
     "execution_count": 18,
     "metadata": {},
     "output_type": "execute_result"
    }
   ],
   "source": [
    "data.query('status==\"Developed\" and adult_mortality<@overall_median and adult_mortality>@developed_median')['country'].unique()\n"
   ]
  },
  {
   "cell_type": "code",
   "execution_count": 19,
   "metadata": {
    "ExecuteTime": {
     "end_time": "2022-12-17T11:56:45.867328Z",
     "start_time": "2022-12-17T11:56:45.859373Z"
    },
    "colab": {
     "base_uri": "https://localhost:8080/"
    },
    "id": "0Jb8oFX_ZcHH",
    "outputId": "20066385-583a-47a0-f379-b5a51631db15"
   },
   "outputs": [
    {
     "data": {
      "text/plain": [
       "array([], dtype=object)"
      ]
     },
     "execution_count": 19,
     "metadata": {},
     "output_type": "execute_result"
    }
   ],
   "source": [
    "data.query('status==\"Developing\" and adult_mortality<@overall_median and adult_mortality>@developing_median')['country'].unique()\n"
   ]
  },
  {
   "cell_type": "markdown",
   "metadata": {
    "id": "xnCiwyHLxuqb"
   },
   "source": [
    "can't  use the same approach as for developed, cause median per  developing group is already higher than median overall, so we just should take above average per group"
   ]
  },
  {
   "cell_type": "code",
   "execution_count": 20,
   "metadata": {
    "ExecuteTime": {
     "end_time": "2022-12-17T11:57:13.344647Z",
     "start_time": "2022-12-17T11:57:13.336580Z"
    },
    "colab": {
     "base_uri": "https://localhost:8080/"
    },
    "id": "K83bcNJSavb_",
    "outputId": "38045561-e911-42e5-d875-960c8d521bf4"
   },
   "outputs": [
    {
     "data": {
      "text/plain": [
       "105"
      ]
     },
     "execution_count": 20,
     "metadata": {},
     "output_type": "execute_result"
    }
   ],
   "source": [
    "data.query('status==\"Developing\" and adult_mortality>@developing_median')['country'].nunique()"
   ]
  },
  {
   "cell_type": "code",
   "execution_count": 21,
   "metadata": {
    "ExecuteTime": {
     "end_time": "2022-12-17T11:57:16.646406Z",
     "start_time": "2022-12-17T11:57:16.638442Z"
    },
    "colab": {
     "base_uri": "https://localhost:8080/"
    },
    "id": "Rx0rBqb6a2pt",
    "outputId": "1c710796-4294-4266-a68c-e6bd7cf751fd"
   },
   "outputs": [
    {
     "data": {
      "text/plain": [
       "161"
      ]
     },
     "execution_count": 21,
     "metadata": {},
     "output_type": "execute_result"
    }
   ],
   "source": [
    "data.query('status==\"Developing\"')['country'].nunique()"
   ]
  },
  {
   "cell_type": "markdown",
   "metadata": {
    "id": "lzV15jkpXTjG"
   },
   "source": [
    "**Conclusion for WHO:**<br>\n",
    "Mortality rate is one of the parameters that tells us how dangerous this difference between two types of countries may be. Not only developing countries have on average twice as  big as mortality rate as developed countries, we also have a lot of countries in the risk zone"
   ]
  },
  {
   "cell_type": "markdown",
   "metadata": {
    "id": "ZhoyV3XBlsFD"
   },
   "source": [
    "## **Task 3: Economics analysis**. How GDP  varies for all countries? Within a group? Is it the same for expenditure?"
   ]
  },
  {
   "cell_type": "code",
   "execution_count": 22,
   "metadata": {
    "ExecuteTime": {
     "end_time": "2022-12-17T11:59:09.587360Z",
     "start_time": "2022-12-17T11:59:09.583539Z"
    },
    "colab": {
     "base_uri": "https://localhost:8080/"
    },
    "id": "MoFdOFvx4vxf",
    "outputId": "91b2f3a1-a171-4ab9-d7f4-abf33d1b15f5"
   },
   "outputs": [
    {
     "data": {
      "text/plain": [
       "14270.16934151599"
      ]
     },
     "execution_count": 22,
     "metadata": {},
     "output_type": "execute_result"
    }
   ],
   "source": [
    "data.gdp.std()\n"
   ]
  },
  {
   "cell_type": "code",
   "execution_count": 23,
   "metadata": {
    "ExecuteTime": {
     "end_time": "2022-12-17T11:59:20.968931Z",
     "start_time": "2022-12-17T11:59:20.962057Z"
    },
    "colab": {
     "base_uri": "https://localhost:8080/"
    },
    "id": "tzL8bSOw5D52",
    "outputId": "b6dfc5ff-f6a4-4469-aa1e-a3bb8ad4992b"
   },
   "outputs": [
    {
     "data": {
      "text/plain": [
       "count      2490.000000\n",
       "mean       7483.158469\n",
       "std       14270.169342\n",
       "min           1.681350\n",
       "25%         463.935626\n",
       "50%        1766.947595\n",
       "75%        5910.806335\n",
       "max      119172.741800\n",
       "Name: gdp, dtype: float64"
      ]
     },
     "execution_count": 23,
     "metadata": {},
     "output_type": "execute_result"
    }
   ],
   "source": [
    "data.gdp.describe()"
   ]
  },
  {
   "cell_type": "markdown",
   "metadata": {
    "id": "00Y2-9jJ5uyR"
   },
   "source": [
    "Can you guess the direction of skewness based on relationship between mean and median ?"
   ]
  },
  {
   "cell_type": "markdown",
   "metadata": {
    "id": "pzYqca125qQH"
   },
   "source": [
    "Ok, back to std in describe method. We see that it is 14 270, but is it a lot? How do we know if variation is big? <br> Coefficient of variation (CV=standard deviation / mean): CV>1 = high variation"
   ]
  },
  {
   "cell_type": "code",
   "execution_count": 24,
   "metadata": {
    "ExecuteTime": {
     "end_time": "2022-12-17T12:01:08.231422Z",
     "start_time": "2022-12-17T12:01:08.227129Z"
    },
    "colab": {
     "base_uri": "https://localhost:8080/"
    },
    "id": "UicMQhbI6u8S",
    "outputId": "0b86d086-4e28-4f0b-a0ed-31c23455816d"
   },
   "outputs": [
    {
     "data": {
      "text/plain": [
       "1.9069714212745892"
      ]
     },
     "execution_count": 24,
     "metadata": {},
     "output_type": "execute_result"
    }
   ],
   "source": [
    "cv=data.gdp.std()/data.gdp.mean()\n",
    "cv"
   ]
  },
  {
   "cell_type": "markdown",
   "metadata": {
    "id": "oiid99Twdfgy"
   },
   "source": [
    "But what's gonna happen when we split gdp per groups? "
   ]
  },
  {
   "cell_type": "code",
   "execution_count": 25,
   "metadata": {
    "ExecuteTime": {
     "end_time": "2022-12-17T12:01:32.392548Z",
     "start_time": "2022-12-17T12:01:32.383625Z"
    },
    "colab": {
     "base_uri": "https://localhost:8080/"
    },
    "id": "se4BtNQN6MsJ",
    "outputId": "b30a90bb-028b-47be-c10a-d230858c7cd7"
   },
   "outputs": [
    {
     "data": {
      "text/plain": [
       "status\n",
       "Developed     1.037066\n",
       "Developing    2.046507\n",
       "Name: gdp, dtype: float64"
      ]
     },
     "execution_count": 25,
     "metadata": {},
     "output_type": "execute_result"
    }
   ],
   "source": [
    "data.groupby(['status'])['gdp'].std()/data.groupby(['status'])['gdp'].mean()"
   ]
  },
  {
   "cell_type": "markdown",
   "metadata": {
    "id": "gCHgiqpx7Tse"
   },
   "source": [
    "Now we see that while developed countries on average have \"about the same\" GDP, developing countries have many different options :D  <br> "
   ]
  },
  {
   "cell_type": "code",
   "execution_count": 26,
   "metadata": {
    "ExecuteTime": {
     "end_time": "2022-12-17T12:02:18.315951Z",
     "start_time": "2022-12-17T12:02:18.125670Z"
    },
    "colab": {
     "base_uri": "https://localhost:8080/",
     "height": 442
    },
    "id": "M8ZDLoRr8ADb",
    "outputId": "8ec95c14-3f34-4b4f-85f6-0d7c3d0178b3"
   },
   "outputs": [
    {
     "data": {
      "image/png": "[encoded data removed]",
      "text/plain": [
       "<Figure size 576x504 with 1 Axes>"
      ]
     },
     "metadata": {
      "needs_background": "light"
     },
     "output_type": "display_data"
    }
   ],
   "source": [
    "fig, ax = plt.subplots(figsize=(8,7))\n",
    "ax = sns.boxplot( x='status',y=\"gdp\",\n",
    "                 data=data, palette=\"Set3\")"
   ]
  },
  {
   "cell_type": "code",
   "execution_count": 27,
   "metadata": {
    "ExecuteTime": {
     "end_time": "2022-12-17T12:02:37.954769Z",
     "start_time": "2022-12-17T12:02:37.236572Z"
    },
    "colab": {
     "base_uri": "https://localhost:8080/",
     "height": 442
    },
    "id": "CEHAhaSS869K",
    "outputId": "01ed50a1-37ea-429a-d0a4-9ce12ad7ab13"
   },
   "outputs": [
    {
     "data": {
      "image/png": "[encoded data removed]",
      "text/plain": [
       "<Figure size 576x504 with 1 Axes>"
      ]
     },
     "metadata": {
      "needs_background": "light"
     },
     "output_type": "display_data"
    }
   ],
   "source": [
    "fig, ax = plt.subplots(figsize=(8,7))\n",
    "ax = sns.histplot(data, x=\"gdp\", hue=\"status\")\n"
   ]
  },
  {
   "cell_type": "code",
   "execution_count": 28,
   "metadata": {
    "ExecuteTime": {
     "end_time": "2022-12-17T12:02:45.708376Z",
     "start_time": "2022-12-17T12:02:45.690277Z"
    },
    "colab": {
     "base_uri": "https://localhost:8080/",
     "height": 142
    },
    "id": "TaeY2c8t7Srp",
    "outputId": "b5337e8e-407d-4d49-9f01-0067dd55d45c"
   },
   "outputs": [
    {
     "data": {
      "text/html": [
       "<div>\n",
       "<style scoped>\n",
       "    .dataframe tbody tr th:only-of-type {\n",
       "        vertical-align: middle;\n",
       "    }\n",
       "\n",
       "    .dataframe tbody tr th {\n",
       "        vertical-align: top;\n",
       "    }\n",
       "\n",
       "    .dataframe thead th {\n",
       "        text-align: right;\n",
       "    }\n",
       "</style>\n",
       "<table border=\"1\" class=\"dataframe\">\n",
       "  <thead>\n",
       "    <tr style=\"text-align: right;\">\n",
       "      <th></th>\n",
       "      <th>count</th>\n",
       "      <th>mean</th>\n",
       "      <th>std</th>\n",
       "      <th>min</th>\n",
       "      <th>25%</th>\n",
       "      <th>50%</th>\n",
       "      <th>75%</th>\n",
       "      <th>max</th>\n",
       "    </tr>\n",
       "    <tr>\n",
       "      <th>status</th>\n",
       "      <th></th>\n",
       "      <th></th>\n",
       "      <th></th>\n",
       "      <th></th>\n",
       "      <th></th>\n",
       "      <th></th>\n",
       "      <th></th>\n",
       "      <th></th>\n",
       "    </tr>\n",
       "  </thead>\n",
       "  <tbody>\n",
       "    <tr>\n",
       "      <th>Developed</th>\n",
       "      <td>448.0</td>\n",
       "      <td>22053.386446</td>\n",
       "      <td>22870.827763</td>\n",
       "      <td>12.27733</td>\n",
       "      <td>3875.74091</td>\n",
       "      <td>13560.723860</td>\n",
       "      <td>36760.425993</td>\n",
       "      <td>119172.74180</td>\n",
       "    </tr>\n",
       "    <tr>\n",
       "      <th>Developing</th>\n",
       "      <td>2042.0</td>\n",
       "      <td>4286.556053</td>\n",
       "      <td>8772.467789</td>\n",
       "      <td>1.68135</td>\n",
       "      <td>382.74983</td>\n",
       "      <td>1246.021671</td>\n",
       "      <td>4147.739877</td>\n",
       "      <td>88564.82298</td>\n",
       "    </tr>\n",
       "  </tbody>\n",
       "</table>\n",
       "</div>"
      ],
      "text/plain": [
       "             count          mean           std       min         25%  \\\n",
       "status                                                                 \n",
       "Developed    448.0  22053.386446  22870.827763  12.27733  3875.74091   \n",
       "Developing  2042.0   4286.556053   8772.467789   1.68135   382.74983   \n",
       "\n",
       "                     50%           75%           max  \n",
       "status                                                \n",
       "Developed   13560.723860  36760.425993  119172.74180  \n",
       "Developing   1246.021671   4147.739877   88564.82298  "
      ]
     },
     "execution_count": 28,
     "metadata": {},
     "output_type": "execute_result"
    }
   ],
   "source": [
    "data.groupby(['status'])['gdp'].describe()"
   ]
  },
  {
   "cell_type": "markdown",
   "metadata": {
    "id": "cAKNyLK89ZM5"
   },
   "source": [
    "Now let's take a look how  boxplot for normal distribution looks like. Let's take schooling  parameter for example"
   ]
  },
  {
   "cell_type": "code",
   "execution_count": 29,
   "metadata": {
    "ExecuteTime": {
     "end_time": "2022-12-17T12:03:26.114991Z",
     "start_time": "2022-12-17T12:03:25.928118Z"
    },
    "colab": {
     "base_uri": "https://localhost:8080/",
     "height": 442
    },
    "id": "rQbSIM6J9V4t",
    "outputId": "4fceb75a-5363-4e46-b76b-f330c61a48ea"
   },
   "outputs": [
    {
     "data": {
      "image/png": "[encoded data removed]",
      "text/plain": [
       "<Figure size 576x504 with 1 Axes>"
      ]
     },
     "metadata": {
      "needs_background": "light"
     },
     "output_type": "display_data"
    }
   ],
   "source": [
    "fig, ax = plt.subplots(figsize=(8,7))\n",
    "ax = sns.boxplot( x='status',y=\"schooling\",\n",
    "                 data=data, palette=\"Set3\")"
   ]
  },
  {
   "cell_type": "code",
   "execution_count": 30,
   "metadata": {
    "ExecuteTime": {
     "end_time": "2022-12-17T12:03:29.601730Z",
     "start_time": "2022-12-17T12:03:29.259252Z"
    },
    "colab": {
     "base_uri": "https://localhost:8080/",
     "height": 442
    },
    "id": "2Ys0rDxS9oBI",
    "outputId": "d5ed8772-fc69-404a-a971-5414643eede1"
   },
   "outputs": [
    {
     "data": {
      "image/png": "[encoded data removed]",
      "text/plain": [
       "<Figure size 576x504 with 1 Axes>"
      ]
     },
     "metadata": {
      "needs_background": "light"
     },
     "output_type": "display_data"
    }
   ],
   "source": [
    "fig, ax = plt.subplots(figsize=(8,7))\n",
    "ax = sns.histplot(data, x=\"schooling\", hue=\"status\")"
   ]
  },
  {
   "cell_type": "markdown",
   "metadata": {
    "id": "W7N_G2o3-Lvn"
   },
   "source": [
    "How does expenditure vary? Overall? Per Group?"
   ]
  },
  {
   "cell_type": "code",
   "execution_count": 31,
   "metadata": {
    "ExecuteTime": {
     "end_time": "2022-12-17T12:04:16.996146Z",
     "start_time": "2022-12-17T12:04:16.988695Z"
    },
    "colab": {
     "base_uri": "https://localhost:8080/"
    },
    "id": "Cr4UjtYq-lND",
    "outputId": "7cae4f01-408a-40a4-e102-6042a6214053"
   },
   "outputs": [
    {
     "data": {
      "text/plain": [
       "status\n",
       "Developed     0.395072\n",
       "Developing    0.399549\n",
       "Name: total_expenditure, dtype: float64"
      ]
     },
     "execution_count": 31,
     "metadata": {},
     "output_type": "execute_result"
    }
   ],
   "source": [
    "data.groupby(['status'])['total_expenditure'].std()/data.groupby(['status'])['total_expenditure'].mean()"
   ]
  },
  {
   "cell_type": "code",
   "execution_count": 32,
   "metadata": {
    "ExecuteTime": {
     "end_time": "2022-12-17T12:04:24.591272Z",
     "start_time": "2022-12-17T12:04:24.574768Z"
    },
    "colab": {
     "base_uri": "https://localhost:8080/",
     "height": 142
    },
    "id": "b_Jsym-8-Lin",
    "outputId": "052d4005-4eab-4cb1-e2ab-7978e1e8a302"
   },
   "outputs": [
    {
     "data": {
      "text/html": [
       "<div>\n",
       "<style scoped>\n",
       "    .dataframe tbody tr th:only-of-type {\n",
       "        vertical-align: middle;\n",
       "    }\n",
       "\n",
       "    .dataframe tbody tr th {\n",
       "        vertical-align: top;\n",
       "    }\n",
       "\n",
       "    .dataframe thead th {\n",
       "        text-align: right;\n",
       "    }\n",
       "</style>\n",
       "<table border=\"1\" class=\"dataframe\">\n",
       "  <thead>\n",
       "    <tr style=\"text-align: right;\">\n",
       "      <th></th>\n",
       "      <th>count</th>\n",
       "      <th>mean</th>\n",
       "      <th>std</th>\n",
       "      <th>min</th>\n",
       "      <th>25%</th>\n",
       "      <th>50%</th>\n",
       "      <th>75%</th>\n",
       "      <th>max</th>\n",
       "    </tr>\n",
       "    <tr>\n",
       "      <th>status</th>\n",
       "      <th></th>\n",
       "      <th></th>\n",
       "      <th></th>\n",
       "      <th></th>\n",
       "      <th></th>\n",
       "      <th></th>\n",
       "      <th></th>\n",
       "      <th></th>\n",
       "    </tr>\n",
       "  </thead>\n",
       "  <tbody>\n",
       "    <tr>\n",
       "      <th>Developed</th>\n",
       "      <td>480.0</td>\n",
       "      <td>7.554042</td>\n",
       "      <td>2.984389</td>\n",
       "      <td>1.10</td>\n",
       "      <td>6.4075</td>\n",
       "      <td>7.895</td>\n",
       "      <td>9.2125</td>\n",
       "      <td>17.60</td>\n",
       "    </tr>\n",
       "    <tr>\n",
       "      <th>Developing</th>\n",
       "      <td>2232.0</td>\n",
       "      <td>5.590694</td>\n",
       "      <td>2.233756</td>\n",
       "      <td>0.37</td>\n",
       "      <td>4.1400</td>\n",
       "      <td>5.400</td>\n",
       "      <td>6.8300</td>\n",
       "      <td>17.24</td>\n",
       "    </tr>\n",
       "  </tbody>\n",
       "</table>\n",
       "</div>"
      ],
      "text/plain": [
       "             count      mean       std   min     25%    50%     75%    max\n",
       "status                                                                    \n",
       "Developed    480.0  7.554042  2.984389  1.10  6.4075  7.895  9.2125  17.60\n",
       "Developing  2232.0  5.590694  2.233756  0.37  4.1400  5.400  6.8300  17.24"
      ]
     },
     "execution_count": 32,
     "metadata": {},
     "output_type": "execute_result"
    }
   ],
   "source": [
    "data.groupby(['status'])['total_expenditure'].describe()"
   ]
  },
  {
   "cell_type": "markdown",
   "metadata": {
    "id": "aOvwDtyO-4ZR"
   },
   "source": [
    "The conclusion is that expenditure as % doesn't vary a lot neither overall, nor between groups. Also, there is no big difference between expenditure of developed and developing countries in relative terms. That means,that % doesn't pay much role, but absolute summ of expenditure does ( here is our paradox). And this is the first recommendation: there is no big difference in % of expenditure, but there is on total expenditure, so %of expenditure as a parameter is not that important to models/programs for WHO"
   ]
  },
  {
   "cell_type": "markdown",
   "metadata": {
    "id": "BoQ-jK0-gp8y"
   },
   "source": [
    "## Task 4: Analysis of immunization"
   ]
  },
  {
   "cell_type": "markdown",
   "metadata": {
    "id": "dJyKfIkIis_p"
   },
   "source": [
    "**For each country find  and average immunization rate for all years. Calculate the mean, dispersion, standard deviation. Plot histograms, describe how distributions varies among two groups of countries**"
   ]
  },
  {
   "cell_type": "code",
   "execution_count": 33,
   "metadata": {
    "ExecuteTime": {
     "end_time": "2022-12-17T12:07:27.628053Z",
     "start_time": "2022-12-17T12:07:27.604526Z"
    },
    "colab": {
     "base_uri": "https://localhost:8080/",
     "height": 241
    },
    "id": "IOFF8Cw1_uJD",
    "outputId": "b95e1262-378a-4bff-bdad-10ffe0fe57de"
   },
   "outputs": [
    {
     "data": {
      "text/html": [
       "<div>\n",
       "<style scoped>\n",
       "    .dataframe tbody tr th:only-of-type {\n",
       "        vertical-align: middle;\n",
       "    }\n",
       "\n",
       "    .dataframe tbody tr th {\n",
       "        vertical-align: top;\n",
       "    }\n",
       "\n",
       "    .dataframe thead th {\n",
       "        text-align: right;\n",
       "    }\n",
       "</style>\n",
       "<table border=\"1\" class=\"dataframe\">\n",
       "  <thead>\n",
       "    <tr style=\"text-align: right;\">\n",
       "      <th></th>\n",
       "      <th>country</th>\n",
       "      <th>year</th>\n",
       "      <th>status</th>\n",
       "      <th>life_expectancy_</th>\n",
       "      <th>adult_mortality</th>\n",
       "      <th>infant_deaths</th>\n",
       "      <th>alcohol</th>\n",
       "      <th>percentage_expenditure</th>\n",
       "      <th>hepatitis_b</th>\n",
       "      <th>measles_</th>\n",
       "      <th>...</th>\n",
       "      <th>polio</th>\n",
       "      <th>total_expenditure</th>\n",
       "      <th>diphtheria_</th>\n",
       "      <th>_hiv/aids</th>\n",
       "      <th>gdp</th>\n",
       "      <th>population</th>\n",
       "      <th>_thinness__1-19_years</th>\n",
       "      <th>_thinness_5-9_years</th>\n",
       "      <th>income_composition_of_resources</th>\n",
       "      <th>schooling</th>\n",
       "    </tr>\n",
       "  </thead>\n",
       "  <tbody>\n",
       "    <tr>\n",
       "      <th>0</th>\n",
       "      <td>Afghanistan</td>\n",
       "      <td>2015</td>\n",
       "      <td>Developing</td>\n",
       "      <td>65.0</td>\n",
       "      <td>263.0</td>\n",
       "      <td>62</td>\n",
       "      <td>0.01</td>\n",
       "      <td>71.279624</td>\n",
       "      <td>65.0</td>\n",
       "      <td>1154</td>\n",
       "      <td>...</td>\n",
       "      <td>6.0</td>\n",
       "      <td>8.16</td>\n",
       "      <td>65.0</td>\n",
       "      <td>0.1</td>\n",
       "      <td>584.259210</td>\n",
       "      <td>33736494.0</td>\n",
       "      <td>17.2</td>\n",
       "      <td>17.3</td>\n",
       "      <td>0.479</td>\n",
       "      <td>10.1</td>\n",
       "    </tr>\n",
       "    <tr>\n",
       "      <th>1</th>\n",
       "      <td>Afghanistan</td>\n",
       "      <td>2014</td>\n",
       "      <td>Developing</td>\n",
       "      <td>59.9</td>\n",
       "      <td>271.0</td>\n",
       "      <td>64</td>\n",
       "      <td>0.01</td>\n",
       "      <td>73.523582</td>\n",
       "      <td>62.0</td>\n",
       "      <td>492</td>\n",
       "      <td>...</td>\n",
       "      <td>58.0</td>\n",
       "      <td>8.18</td>\n",
       "      <td>62.0</td>\n",
       "      <td>0.1</td>\n",
       "      <td>612.696514</td>\n",
       "      <td>327582.0</td>\n",
       "      <td>17.5</td>\n",
       "      <td>17.5</td>\n",
       "      <td>0.476</td>\n",
       "      <td>10.0</td>\n",
       "    </tr>\n",
       "    <tr>\n",
       "      <th>2</th>\n",
       "      <td>Afghanistan</td>\n",
       "      <td>2013</td>\n",
       "      <td>Developing</td>\n",
       "      <td>59.9</td>\n",
       "      <td>268.0</td>\n",
       "      <td>66</td>\n",
       "      <td>0.01</td>\n",
       "      <td>73.219243</td>\n",
       "      <td>64.0</td>\n",
       "      <td>430</td>\n",
       "      <td>...</td>\n",
       "      <td>62.0</td>\n",
       "      <td>8.13</td>\n",
       "      <td>64.0</td>\n",
       "      <td>0.1</td>\n",
       "      <td>631.744976</td>\n",
       "      <td>31731688.0</td>\n",
       "      <td>17.7</td>\n",
       "      <td>17.7</td>\n",
       "      <td>0.470</td>\n",
       "      <td>9.9</td>\n",
       "    </tr>\n",
       "    <tr>\n",
       "      <th>3</th>\n",
       "      <td>Afghanistan</td>\n",
       "      <td>2012</td>\n",
       "      <td>Developing</td>\n",
       "      <td>59.5</td>\n",
       "      <td>272.0</td>\n",
       "      <td>69</td>\n",
       "      <td>0.01</td>\n",
       "      <td>78.184215</td>\n",
       "      <td>67.0</td>\n",
       "      <td>2787</td>\n",
       "      <td>...</td>\n",
       "      <td>67.0</td>\n",
       "      <td>8.52</td>\n",
       "      <td>67.0</td>\n",
       "      <td>0.1</td>\n",
       "      <td>669.959000</td>\n",
       "      <td>3696958.0</td>\n",
       "      <td>17.9</td>\n",
       "      <td>18.0</td>\n",
       "      <td>0.463</td>\n",
       "      <td>9.8</td>\n",
       "    </tr>\n",
       "    <tr>\n",
       "      <th>4</th>\n",
       "      <td>Afghanistan</td>\n",
       "      <td>2011</td>\n",
       "      <td>Developing</td>\n",
       "      <td>59.2</td>\n",
       "      <td>275.0</td>\n",
       "      <td>71</td>\n",
       "      <td>0.01</td>\n",
       "      <td>7.097109</td>\n",
       "      <td>68.0</td>\n",
       "      <td>3013</td>\n",
       "      <td>...</td>\n",
       "      <td>68.0</td>\n",
       "      <td>7.87</td>\n",
       "      <td>68.0</td>\n",
       "      <td>0.1</td>\n",
       "      <td>63.537231</td>\n",
       "      <td>2978599.0</td>\n",
       "      <td>18.2</td>\n",
       "      <td>18.2</td>\n",
       "      <td>0.454</td>\n",
       "      <td>9.5</td>\n",
       "    </tr>\n",
       "  </tbody>\n",
       "</table>\n",
       "<p>5 rows × 22 columns</p>\n",
       "</div>"
      ],
      "text/plain": [
       "       country  year      status  life_expectancy_  adult_mortality  \\\n",
       "0  Afghanistan  2015  Developing              65.0            263.0   \n",
       "1  Afghanistan  2014  Developing              59.9            271.0   \n",
       "2  Afghanistan  2013  Developing              59.9            268.0   \n",
       "3  Afghanistan  2012  Developing              59.5            272.0   \n",
       "4  Afghanistan  2011  Developing              59.2            275.0   \n",
       "\n",
       "   infant_deaths  alcohol  percentage_expenditure  hepatitis_b  measles_  ...  \\\n",
       "0             62     0.01               71.279624         65.0      1154  ...   \n",
       "1             64     0.01               73.523582         62.0       492  ...   \n",
       "2             66     0.01               73.219243         64.0       430  ...   \n",
       "3             69     0.01               78.184215         67.0      2787  ...   \n",
       "4             71     0.01                7.097109         68.0      3013  ...   \n",
       "\n",
       "   polio  total_expenditure  diphtheria_  _hiv/aids         gdp  population  \\\n",
       "0    6.0               8.16         65.0        0.1  584.259210  33736494.0   \n",
       "1   58.0               8.18         62.0        0.1  612.696514    327582.0   \n",
       "2   62.0               8.13         64.0        0.1  631.744976  31731688.0   \n",
       "3   67.0               8.52         67.0        0.1  669.959000   3696958.0   \n",
       "4   68.0               7.87         68.0        0.1   63.537231   2978599.0   \n",
       "\n",
       "   _thinness__1-19_years  _thinness_5-9_years  \\\n",
       "0                   17.2                 17.3   \n",
       "1                   17.5                 17.5   \n",
       "2                   17.7                 17.7   \n",
       "3                   17.9                 18.0   \n",
       "4                   18.2                 18.2   \n",
       "\n",
       "   income_composition_of_resources  schooling  \n",
       "0                            0.479       10.1  \n",
       "1                            0.476       10.0  \n",
       "2                            0.470        9.9  \n",
       "3                            0.463        9.8  \n",
       "4                            0.454        9.5  \n",
       "\n",
       "[5 rows x 22 columns]"
      ]
     },
     "execution_count": 33,
     "metadata": {},
     "output_type": "execute_result"
    }
   ],
   "source": [
    "data.head()"
   ]
  },
  {
   "cell_type": "code",
   "execution_count": 34,
   "metadata": {
    "ExecuteTime": {
     "end_time": "2022-12-17T12:08:12.621210Z",
     "start_time": "2022-12-17T12:08:12.597482Z"
    },
    "colab": {
     "base_uri": "https://localhost:8080/",
     "height": 473
    },
    "id": "uvk9_d5b_avg",
    "outputId": "0a4687d5-0c9f-481d-b723-afb4392fba3e"
   },
   "outputs": [
    {
     "name": "stderr",
     "output_type": "stream",
     "text": [
      "/opt/anaconda3/lib/python3.7/site-packages/ipykernel_launcher.py:1: FutureWarning: Indexing with multiple keys (implicitly converted to a tuple of keys) will be deprecated, use a list instead.\n",
      "  \"\"\"Entry point for launching an IPython kernel.\n"
     ]
    },
    {
     "data": {
      "text/html": [
       "<div>\n",
       "<style scoped>\n",
       "    .dataframe tbody tr th:only-of-type {\n",
       "        vertical-align: middle;\n",
       "    }\n",
       "\n",
       "    .dataframe tbody tr th {\n",
       "        vertical-align: top;\n",
       "    }\n",
       "\n",
       "    .dataframe thead th {\n",
       "        text-align: right;\n",
       "    }\n",
       "</style>\n",
       "<table border=\"1\" class=\"dataframe\">\n",
       "  <thead>\n",
       "    <tr style=\"text-align: right;\">\n",
       "      <th></th>\n",
       "      <th>country</th>\n",
       "      <th>status</th>\n",
       "      <th>hepatitis_b</th>\n",
       "      <th>diphtheria_</th>\n",
       "      <th>polio</th>\n",
       "    </tr>\n",
       "  </thead>\n",
       "  <tbody>\n",
       "    <tr>\n",
       "      <th>0</th>\n",
       "      <td>Afghanistan</td>\n",
       "      <td>Developing</td>\n",
       "      <td>64.562500</td>\n",
       "      <td>52.3125</td>\n",
       "      <td>48.3750</td>\n",
       "    </tr>\n",
       "    <tr>\n",
       "      <th>1</th>\n",
       "      <td>Albania</td>\n",
       "      <td>Developing</td>\n",
       "      <td>98.000000</td>\n",
       "      <td>98.0625</td>\n",
       "      <td>98.1250</td>\n",
       "    </tr>\n",
       "    <tr>\n",
       "      <th>2</th>\n",
       "      <td>Algeria</td>\n",
       "      <td>Developing</td>\n",
       "      <td>78.000000</td>\n",
       "      <td>91.8750</td>\n",
       "      <td>91.7500</td>\n",
       "    </tr>\n",
       "    <tr>\n",
       "      <th>3</th>\n",
       "      <td>Angola</td>\n",
       "      <td>Developing</td>\n",
       "      <td>70.222222</td>\n",
       "      <td>47.6875</td>\n",
       "      <td>46.1250</td>\n",
       "    </tr>\n",
       "    <tr>\n",
       "      <th>4</th>\n",
       "      <td>Antigua and Barbuda</td>\n",
       "      <td>Developing</td>\n",
       "      <td>98.266667</td>\n",
       "      <td>98.3125</td>\n",
       "      <td>96.9375</td>\n",
       "    </tr>\n",
       "    <tr>\n",
       "      <th>...</th>\n",
       "      <td>...</td>\n",
       "      <td>...</td>\n",
       "      <td>...</td>\n",
       "      <td>...</td>\n",
       "      <td>...</td>\n",
       "    </tr>\n",
       "    <tr>\n",
       "      <th>188</th>\n",
       "      <td>Venezuela (Bolivarian Republic of)</td>\n",
       "      <td>Developing</td>\n",
       "      <td>66.250000</td>\n",
       "      <td>68.5000</td>\n",
       "      <td>74.6875</td>\n",
       "    </tr>\n",
       "    <tr>\n",
       "      <th>189</th>\n",
       "      <td>Viet Nam</td>\n",
       "      <td>Developing</td>\n",
       "      <td>87.538462</td>\n",
       "      <td>91.7500</td>\n",
       "      <td>94.9375</td>\n",
       "    </tr>\n",
       "    <tr>\n",
       "      <th>190</th>\n",
       "      <td>Yemen</td>\n",
       "      <td>Developing</td>\n",
       "      <td>55.687500</td>\n",
       "      <td>72.6250</td>\n",
       "      <td>67.1250</td>\n",
       "    </tr>\n",
       "    <tr>\n",
       "      <th>191</th>\n",
       "      <td>Zambia</td>\n",
       "      <td>Developing</td>\n",
       "      <td>69.818182</td>\n",
       "      <td>74.2500</td>\n",
       "      <td>64.3750</td>\n",
       "    </tr>\n",
       "    <tr>\n",
       "      <th>192</th>\n",
       "      <td>Zimbabwe</td>\n",
       "      <td>Developing</td>\n",
       "      <td>70.562500</td>\n",
       "      <td>75.1875</td>\n",
       "      <td>75.6250</td>\n",
       "    </tr>\n",
       "  </tbody>\n",
       "</table>\n",
       "<p>193 rows × 5 columns</p>\n",
       "</div>"
      ],
      "text/plain": [
       "                                country      status  hepatitis_b  diphtheria_  \\\n",
       "0                           Afghanistan  Developing    64.562500      52.3125   \n",
       "1                               Albania  Developing    98.000000      98.0625   \n",
       "2                               Algeria  Developing    78.000000      91.8750   \n",
       "3                                Angola  Developing    70.222222      47.6875   \n",
       "4                   Antigua and Barbuda  Developing    98.266667      98.3125   \n",
       "..                                  ...         ...          ...          ...   \n",
       "188  Venezuela (Bolivarian Republic of)  Developing    66.250000      68.5000   \n",
       "189                            Viet Nam  Developing    87.538462      91.7500   \n",
       "190                               Yemen  Developing    55.687500      72.6250   \n",
       "191                              Zambia  Developing    69.818182      74.2500   \n",
       "192                            Zimbabwe  Developing    70.562500      75.1875   \n",
       "\n",
       "       polio  \n",
       "0    48.3750  \n",
       "1    98.1250  \n",
       "2    91.7500  \n",
       "3    46.1250  \n",
       "4    96.9375  \n",
       "..       ...  \n",
       "188  74.6875  \n",
       "189  94.9375  \n",
       "190  67.1250  \n",
       "191  64.3750  \n",
       "192  75.6250  \n",
       "\n",
       "[193 rows x 5 columns]"
      ]
     },
     "execution_count": 34,
     "metadata": {},
     "output_type": "execute_result"
    }
   ],
   "source": [
    "immunization=data.groupby(['country','status'])['hepatitis_b','diphtheria_','polio'].mean().reset_index()\n",
    "immunization"
   ]
  },
  {
   "cell_type": "markdown",
   "metadata": {
    "id": "EknVSQcrhhtj"
   },
   "source": [
    "This is just an example of function"
   ]
  },
  {
   "cell_type": "code",
   "execution_count": 36,
   "metadata": {
    "ExecuteTime": {
     "end_time": "2022-12-17T12:09:17.867995Z",
     "start_time": "2022-12-17T12:09:17.861654Z"
    },
    "id": "pd6IS1NmDEI6"
   },
   "outputs": [],
   "source": [
    "def immunization_stat(vaccine):\n",
    "    fig, ax = plt.subplots(figsize=(8,7))\n",
    "    ax = sns.histplot(immunization, x=vaccine, hue=\"status\")\n",
    "    mean=immunization[vaccine].mean()\n",
    "    std=immunization[vaccine].std()\n",
    "    var=immunization[vaccine].var()\n",
    "    cv=std/mean\n",
    "    plt.show()\n",
    "    print(\"Average is\",mean)\n",
    "    print(immunization.groupby(['status'])[vaccine].mean())\n",
    "    if cv>1:\n",
    "        print(\"Varies a lot\")\n",
    "    else:\n",
    "        print('Centered around average')"
   ]
  },
  {
   "cell_type": "code",
   "execution_count": 37,
   "metadata": {
    "ExecuteTime": {
     "end_time": "2022-12-17T12:09:20.335051Z",
     "start_time": "2022-12-17T12:09:20.073966Z"
    },
    "colab": {
     "base_uri": "https://localhost:8080/",
     "height": 545
    },
    "id": "BXIRL0TID5Ti",
    "outputId": "fe514dce-2215-4e5a-bfc5-aec3fb3657d3"
   },
   "outputs": [
    {
     "data": {
      "image/png": "[encoded data removed]",
      "text/plain": [
       "<Figure size 576x504 with 1 Axes>"
      ]
     },
     "metadata": {
      "needs_background": "light"
     },
     "output_type": "display_data"
    },
    {
     "name": "stdout",
     "output_type": "stream",
     "text": [
      "Average is 82.22844189489267\n",
      "status\n",
      "Developed     93.476562\n",
      "Developing    79.992791\n",
      "Name: diphtheria_, dtype: float64\n",
      "Centered around average\n"
     ]
    }
   ],
   "source": [
    "immunization_stat('diphtheria_')"
   ]
  },
  {
   "cell_type": "markdown",
   "metadata": {},
   "source": [
    "Answer the following questions:\n",
    "1. Which vaccine out of all 3 has the highest average immunization rate across all countries.\n",
    "2. Which vaccine has the lowest rate in developing countries?"
   ]
  },
  {
   "cell_type": "markdown",
   "metadata": {
    "id": "pg1CKFE0hluQ"
   },
   "source": [
    "### Task 5: Checking WHO's hypothesis on whether averages of body weight indicators are the same for developed and developing countries"
   ]
  },
  {
   "cell_type": "markdown",
   "metadata": {
    "id": "fnbS-YRN0vRr"
   },
   "source": [
    "\"*First, what parameters should we take? What parameters belong to  body weight indicators?*\" "
   ]
  },
  {
   "cell_type": "code",
   "execution_count": 38,
   "metadata": {
    "ExecuteTime": {
     "end_time": "2022-12-17T12:12:34.202925Z",
     "start_time": "2022-12-17T12:12:34.192931Z"
    },
    "colab": {
     "base_uri": "https://localhost:8080/",
     "height": 204
    },
    "id": "rbDj_q0Q1vaw",
    "outputId": "9255969c-8baf-4b09-d36f-16a8b080c72e"
   },
   "outputs": [
    {
     "data": {
      "text/html": [
       "<div>\n",
       "<style scoped>\n",
       "    .dataframe tbody tr th:only-of-type {\n",
       "        vertical-align: middle;\n",
       "    }\n",
       "\n",
       "    .dataframe tbody tr th {\n",
       "        vertical-align: top;\n",
       "    }\n",
       "\n",
       "    .dataframe thead th {\n",
       "        text-align: right;\n",
       "    }\n",
       "</style>\n",
       "<table border=\"1\" class=\"dataframe\">\n",
       "  <thead>\n",
       "    <tr style=\"text-align: right;\">\n",
       "      <th></th>\n",
       "      <th>country</th>\n",
       "      <th>status</th>\n",
       "      <th>_bmi_</th>\n",
       "      <th>_thinness__1-19_years</th>\n",
       "      <th>_thinness_5-9_years</th>\n",
       "    </tr>\n",
       "  </thead>\n",
       "  <tbody>\n",
       "    <tr>\n",
       "      <th>0</th>\n",
       "      <td>Afghanistan</td>\n",
       "      <td>Developing</td>\n",
       "      <td>19.1</td>\n",
       "      <td>17.2</td>\n",
       "      <td>17.3</td>\n",
       "    </tr>\n",
       "    <tr>\n",
       "      <th>1</th>\n",
       "      <td>Afghanistan</td>\n",
       "      <td>Developing</td>\n",
       "      <td>18.6</td>\n",
       "      <td>17.5</td>\n",
       "      <td>17.5</td>\n",
       "    </tr>\n",
       "    <tr>\n",
       "      <th>2</th>\n",
       "      <td>Afghanistan</td>\n",
       "      <td>Developing</td>\n",
       "      <td>18.1</td>\n",
       "      <td>17.7</td>\n",
       "      <td>17.7</td>\n",
       "    </tr>\n",
       "    <tr>\n",
       "      <th>3</th>\n",
       "      <td>Afghanistan</td>\n",
       "      <td>Developing</td>\n",
       "      <td>17.6</td>\n",
       "      <td>17.9</td>\n",
       "      <td>18.0</td>\n",
       "    </tr>\n",
       "    <tr>\n",
       "      <th>4</th>\n",
       "      <td>Afghanistan</td>\n",
       "      <td>Developing</td>\n",
       "      <td>17.2</td>\n",
       "      <td>18.2</td>\n",
       "      <td>18.2</td>\n",
       "    </tr>\n",
       "  </tbody>\n",
       "</table>\n",
       "</div>"
      ],
      "text/plain": [
       "       country      status  _bmi_  _thinness__1-19_years  _thinness_5-9_years\n",
       "0  Afghanistan  Developing   19.1                   17.2                 17.3\n",
       "1  Afghanistan  Developing   18.6                   17.5                 17.5\n",
       "2  Afghanistan  Developing   18.1                   17.7                 17.7\n",
       "3  Afghanistan  Developing   17.6                   17.9                 18.0\n",
       "4  Afghanistan  Developing   17.2                   18.2                 18.2"
      ]
     },
     "execution_count": 38,
     "metadata": {},
     "output_type": "execute_result"
    }
   ],
   "source": [
    "bmi=data[['country','status','_bmi_','_thinness__1-19_years','_thinness_5-9_years']]\n",
    "bmi.head()"
   ]
  },
  {
   "cell_type": "markdown",
   "metadata": {
    "id": "TH4K6b1x2EW7"
   },
   "source": [
    "Let's formulate hypothesis that we're going to check. In statistical testing we're calling it Null Hypothesis, it's always about equality of the groups, or that the difference between two groups is equal to zero (null, thus the name of hypothesis)"
   ]
  },
  {
   "cell_type": "markdown",
   "metadata": {
    "id": "8PWQq-Sp25Wh"
   },
   "source": [
    "Let's start with the first parameter: BMI index. \n",
    "Null Hypothesis will be smth like  <br>\n",
    "\"*Average yearly BMI index of Developed countries is equal to Average yearly BMI index of Developing  countries*\""
   ]
  },
  {
   "cell_type": "code",
   "execution_count": 39,
   "metadata": {
    "ExecuteTime": {
     "end_time": "2022-12-17T12:13:29.382851Z",
     "start_time": "2022-12-17T12:13:29.079750Z"
    },
    "colab": {
     "base_uri": "https://localhost:8080/",
     "height": 443
    },
    "id": "myThH2_C4k0g",
    "outputId": "05b416df-6aa1-4023-877a-aa28c512d483"
   },
   "outputs": [
    {
     "data": {
      "image/png": "[encoded data removed]",
      "text/plain": [
       "<Figure size 576x504 with 1 Axes>"
      ]
     },
     "metadata": {
      "needs_background": "light"
     },
     "output_type": "display_data"
    }
   ],
   "source": [
    "fig, ax = plt.subplots(figsize=(8,7))\n",
    "ax = sns.histplot(bmi, x=\"_bmi_\", hue=\"status\")"
   ]
  },
  {
   "cell_type": "markdown",
   "metadata": {
    "id": "F0mdgkrH4wUH"
   },
   "source": [
    "Not normal, should use median"
   ]
  },
  {
   "cell_type": "code",
   "execution_count": 40,
   "metadata": {
    "ExecuteTime": {
     "end_time": "2022-12-17T12:13:33.914558Z",
     "start_time": "2022-12-17T12:13:33.908101Z"
    },
    "colab": {
     "base_uri": "https://localhost:8080/"
    },
    "id": "XiLk8lkd478M",
    "outputId": "cdb2adf1-c396-4700-e709-89bb4deb06f3"
   },
   "outputs": [
    {
     "data": {
      "text/plain": [
       "status\n",
       "Developed     57.45\n",
       "Developing    35.20\n",
       "Name: _bmi_, dtype: float64"
      ]
     },
     "execution_count": 40,
     "metadata": {},
     "output_type": "execute_result"
    }
   ],
   "source": [
    "bmi.groupby(['status'])['_bmi_'].median()"
   ]
  },
  {
   "cell_type": "markdown",
   "metadata": {
    "id": "HUcZTi1C5sb1"
   },
   "source": [
    "The difference between groups in median is actually pretty big, so the null hypothesis of WHO is wrong. \n",
    "<br> \"*What do we suggest to WHO regarding the hypothesis* ? \n",
    "<br> \"Can't exclude bmi from the model, cause it's different for the groups"
   ]
  },
  {
   "cell_type": "markdown",
   "metadata": {
    "id": "l263AOF46NlS"
   },
   "source": [
    "check other two parameters also and make a conclusion whether they're also different and we should not exclude them"
   ]
  },
  {
   "cell_type": "code",
   "execution_count": 41,
   "metadata": {
    "ExecuteTime": {
     "end_time": "2022-12-17T12:14:44.002597Z",
     "start_time": "2022-12-17T12:14:43.598326Z"
    },
    "colab": {
     "base_uri": "https://localhost:8080/",
     "height": 443
    },
    "id": "eZc46MBO6W-7",
    "outputId": "909ea071-cff9-40aa-9aec-eaf959c90552"
   },
   "outputs": [
    {
     "data": {
      "image/png": "[encoded data removed]",
      "text/plain": [
       "<Figure size 576x504 with 1 Axes>"
      ]
     },
     "metadata": {
      "needs_background": "light"
     },
     "output_type": "display_data"
    }
   ],
   "source": [
    "fig, ax = plt.subplots(figsize=(8,7))\n",
    "ax = sns.histplot(bmi, x=\"_thinness__1-19_years\", hue=\"status\")"
   ]
  },
  {
   "cell_type": "code",
   "execution_count": 42,
   "metadata": {
    "ExecuteTime": {
     "end_time": "2022-12-17T12:14:46.996754Z",
     "start_time": "2022-12-17T12:14:46.986875Z"
    },
    "colab": {
     "base_uri": "https://localhost:8080/",
     "height": 142
    },
    "id": "QEJ4EpnM6bA8",
    "outputId": "f94bb3b6-7708-46e8-8fd3-89b097366865"
   },
   "outputs": [
    {
     "data": {
      "text/html": [
       "<div>\n",
       "<style scoped>\n",
       "    .dataframe tbody tr th:only-of-type {\n",
       "        vertical-align: middle;\n",
       "    }\n",
       "\n",
       "    .dataframe tbody tr th {\n",
       "        vertical-align: top;\n",
       "    }\n",
       "\n",
       "    .dataframe thead th {\n",
       "        text-align: right;\n",
       "    }\n",
       "</style>\n",
       "<table border=\"1\" class=\"dataframe\">\n",
       "  <thead>\n",
       "    <tr style=\"text-align: right;\">\n",
       "      <th></th>\n",
       "      <th>_bmi_</th>\n",
       "      <th>_thinness__1-19_years</th>\n",
       "      <th>_thinness_5-9_years</th>\n",
       "    </tr>\n",
       "    <tr>\n",
       "      <th>status</th>\n",
       "      <th></th>\n",
       "      <th></th>\n",
       "      <th></th>\n",
       "    </tr>\n",
       "  </thead>\n",
       "  <tbody>\n",
       "    <tr>\n",
       "      <th>Developed</th>\n",
       "      <td>57.45</td>\n",
       "      <td>1.1</td>\n",
       "      <td>1.0</td>\n",
       "    </tr>\n",
       "    <tr>\n",
       "      <th>Developing</th>\n",
       "      <td>35.20</td>\n",
       "      <td>4.5</td>\n",
       "      <td>4.6</td>\n",
       "    </tr>\n",
       "  </tbody>\n",
       "</table>\n",
       "</div>"
      ],
      "text/plain": [
       "            _bmi_  _thinness__1-19_years  _thinness_5-9_years\n",
       "status                                                       \n",
       "Developed   57.45                    1.1                  1.0\n",
       "Developing  35.20                    4.5                  4.6"
      ]
     },
     "execution_count": 42,
     "metadata": {},
     "output_type": "execute_result"
    }
   ],
   "source": [
    "bmi.groupby(['status']).median()"
   ]
  },
  {
   "cell_type": "code",
   "execution_count": 43,
   "metadata": {
    "ExecuteTime": {
     "end_time": "2022-12-17T12:15:08.289829Z",
     "start_time": "2022-12-17T12:15:08.278558Z"
    },
    "colab": {
     "base_uri": "https://localhost:8080/",
     "height": 669
    },
    "id": "kLBVD6236xbp",
    "outputId": "c9f57718-50b4-424d-bbe3-dfd4bc93bfac"
   },
   "outputs": [
    {
     "data": {
      "text/html": [
       "<div>\n",
       "<style scoped>\n",
       "    .dataframe tbody tr th:only-of-type {\n",
       "        vertical-align: middle;\n",
       "    }\n",
       "\n",
       "    .dataframe tbody tr th {\n",
       "        vertical-align: top;\n",
       "    }\n",
       "\n",
       "    .dataframe thead th {\n",
       "        text-align: right;\n",
       "    }\n",
       "</style>\n",
       "<table border=\"1\" class=\"dataframe\">\n",
       "  <thead>\n",
       "    <tr style=\"text-align: right;\">\n",
       "      <th>status</th>\n",
       "      <th>Developed</th>\n",
       "      <th>Developing</th>\n",
       "    </tr>\n",
       "  </thead>\n",
       "  <tbody>\n",
       "    <tr>\n",
       "      <th>year</th>\n",
       "      <td>2007</td>\n",
       "      <td>2008</td>\n",
       "    </tr>\n",
       "    <tr>\n",
       "      <th>life_expectancy_</th>\n",
       "      <td>79</td>\n",
       "      <td>69</td>\n",
       "    </tr>\n",
       "    <tr>\n",
       "      <th>adult_mortality</th>\n",
       "      <td>73</td>\n",
       "      <td>163</td>\n",
       "    </tr>\n",
       "    <tr>\n",
       "      <th>infant_deaths</th>\n",
       "      <td>0</td>\n",
       "      <td>6</td>\n",
       "    </tr>\n",
       "    <tr>\n",
       "      <th>alcohol</th>\n",
       "      <td>10</td>\n",
       "      <td>2</td>\n",
       "    </tr>\n",
       "    <tr>\n",
       "      <th>percentage_expenditure</th>\n",
       "      <td>846</td>\n",
       "      <td>48</td>\n",
       "    </tr>\n",
       "    <tr>\n",
       "      <th>hepatitis_b</th>\n",
       "      <td>95</td>\n",
       "      <td>91</td>\n",
       "    </tr>\n",
       "    <tr>\n",
       "      <th>measles_</th>\n",
       "      <td>12</td>\n",
       "      <td>18</td>\n",
       "    </tr>\n",
       "    <tr>\n",
       "      <th>_bmi_</th>\n",
       "      <td>57</td>\n",
       "      <td>35</td>\n",
       "    </tr>\n",
       "    <tr>\n",
       "      <th>under-five_deaths_</th>\n",
       "      <td>0</td>\n",
       "      <td>7</td>\n",
       "    </tr>\n",
       "    <tr>\n",
       "      <th>polio</th>\n",
       "      <td>96</td>\n",
       "      <td>91</td>\n",
       "    </tr>\n",
       "    <tr>\n",
       "      <th>total_expenditure</th>\n",
       "      <td>7</td>\n",
       "      <td>5</td>\n",
       "    </tr>\n",
       "    <tr>\n",
       "      <th>diphtheria_</th>\n",
       "      <td>96</td>\n",
       "      <td>91</td>\n",
       "    </tr>\n",
       "    <tr>\n",
       "      <th>_hiv/aids</th>\n",
       "      <td>0</td>\n",
       "      <td>0</td>\n",
       "    </tr>\n",
       "    <tr>\n",
       "      <th>gdp</th>\n",
       "      <td>13560</td>\n",
       "      <td>1246</td>\n",
       "    </tr>\n",
       "    <tr>\n",
       "      <th>population</th>\n",
       "      <td>1167660</td>\n",
       "      <td>1404827</td>\n",
       "    </tr>\n",
       "    <tr>\n",
       "      <th>_thinness__1-19_years</th>\n",
       "      <td>1</td>\n",
       "      <td>4</td>\n",
       "    </tr>\n",
       "    <tr>\n",
       "      <th>_thinness_5-9_years</th>\n",
       "      <td>1</td>\n",
       "      <td>4</td>\n",
       "    </tr>\n",
       "    <tr>\n",
       "      <th>income_composition_of_resources</th>\n",
       "      <td>0</td>\n",
       "      <td>0</td>\n",
       "    </tr>\n",
       "    <tr>\n",
       "      <th>schooling</th>\n",
       "      <td>15</td>\n",
       "      <td>11</td>\n",
       "    </tr>\n",
       "  </tbody>\n",
       "</table>\n",
       "</div>"
      ],
      "text/plain": [
       "status                           Developed  Developing\n",
       "year                                  2007        2008\n",
       "life_expectancy_                        79          69\n",
       "adult_mortality                         73         163\n",
       "infant_deaths                            0           6\n",
       "alcohol                                 10           2\n",
       "percentage_expenditure                 846          48\n",
       "hepatitis_b                             95          91\n",
       "measles_                                12          18\n",
       "_bmi_                                   57          35\n",
       "under-five_deaths_                       0           7\n",
       "polio                                   96          91\n",
       "total_expenditure                        7           5\n",
       "diphtheria_                             96          91\n",
       "_hiv/aids                                0           0\n",
       "gdp                                  13560        1246\n",
       "population                         1167660     1404827\n",
       "_thinness__1-19_years                    1           4\n",
       "_thinness_5-9_years                      1           4\n",
       "income_composition_of_resources          0           0\n",
       "schooling                               15          11"
      ]
     },
     "execution_count": 43,
     "metadata": {},
     "output_type": "execute_result"
    }
   ],
   "source": [
    "data.groupby(['status']).median().T.astype(int)"
   ]
  },
  {
   "cell_type": "markdown",
   "metadata": {
    "id": "e-5UFUOm8G0q"
   },
   "source": [
    "\"*While for some parameters the difference in average  is obvious, for others, like hepatitis_b  is not. In statistics we never just do the comparison on average, because average (even median) doesn't fully represent the distribution. To prove that averages are not the same between groups we're using hypothesis testing which we will cover in the next workshop...*\""
   ]
  },
  {
   "cell_type": "markdown",
   "metadata": {
    "id": "ljVxYLGebEPe"
   },
   "source": [
    "**General conclusion** <br>\n",
    "We took a look at several parameters for different countries and found out that: <br>\n",
    "1.  While for developed countries the expectancy 'starts' from 70s, for developing it can be lower than 40 and the difference in average life expectancy is 10 years. That is a big difference that should be reduced, so WHO needs to help developing countries to catch up. <br>\n",
    "2. Mortality rate is one of the parameters that tells us how dangerous this difference between two types of countries may be.<br>\n",
    "3. There is no big difference in % of expenditure, but there is a big one on absolute expenditure, so % of expenditure as a parameter is not that important to models/programs for WHO\n",
    "4. BMI and other weight indicators shouldn't be excluded from the models/recommendation, cause they're different for developed and developinc countries\n"
   ]
  },
  {
   "cell_type": "markdown",
   "metadata": {},
   "source": [
    "## Task 5: Hypothesis Testing"
   ]
  },
  {
   "cell_type": "markdown",
   "metadata": {},
   "source": [
    "**What statistical test should we use to compare two groups together?**"
   ]
  },
  {
   "cell_type": "markdown",
   "metadata": {},
   "source": [
    "\"since we have limited number of countries and limites number of years - we're working with samples\""
   ]
  },
  {
   "cell_type": "markdown",
   "metadata": {},
   "source": [
    "\"What would be population for this dataset? How it would look like?\" <br>\n",
    "**Answer:** \"Data (parameters) for all years for all countries\""
   ]
  },
  {
   "cell_type": "markdown",
   "metadata": {},
   "source": [
    "Define two datasets for samples of \"developed\" and \"developing\" countries. "
   ]
  },
  {
   "cell_type": "code",
   "execution_count": 46,
   "metadata": {
    "ExecuteTime": {
     "end_time": "2022-12-23T10:51:22.634336Z",
     "start_time": "2022-12-23T10:51:22.496658Z"
    }
   },
   "outputs": [],
   "source": [
    "developed=data.query('status==\"Developed\"')\n",
    "developing=data.query('status==\"Developing\"')"
   ]
  },
  {
   "cell_type": "markdown",
   "metadata": {},
   "source": [
    "Ok, samples are defined. Any chosen column can be sample. Let's get back to out BMI identificator. <br>\n",
    "We've already stated Null Hypothesis : <br>\n",
    "**\"Average yearly BMI index of Developed countries is equal to Average yearly BMI index of Developing countries\"**<br> What other Hypothesis do we need? What is the opposite to this statement? "
   ]
  },
  {
   "cell_type": "code",
   "execution_count": null,
   "metadata": {},
   "outputs": [],
   "source": []
  },
  {
   "cell_type": "code",
   "execution_count": null,
   "metadata": {},
   "outputs": [],
   "source": []
  },
  {
   "cell_type": "markdown",
   "metadata": {},
   "source": [
    "**H0:** \"Average yearly BMI index of Developed countries is equal to Average yearly BMI index of Developing countries\" <br>\n",
    "**HA:** \"Average yearly BMI index of Developed countries does not equal to Average yearly BMI index of Developing countries\""
   ]
  },
  {
   "cell_type": "markdown",
   "metadata": {},
   "source": [
    "Once we've defined hypothesis, what do we do with them? <br>"
   ]
  },
  {
   "cell_type": "code",
   "execution_count": 62,
   "metadata": {
    "ExecuteTime": {
     "end_time": "2022-12-23T11:21:31.951923Z",
     "start_time": "2022-12-23T11:21:31.943983Z"
    }
   },
   "outputs": [],
   "source": [
    "sample1=developed['_bmi_']\n",
    "sample2=developing['_bmi_']"
   ]
  },
  {
   "cell_type": "code",
   "execution_count": 49,
   "metadata": {
    "ExecuteTime": {
     "end_time": "2022-12-23T10:58:37.043720Z",
     "start_time": "2022-12-23T10:58:37.009361Z"
    }
   },
   "outputs": [
    {
     "data": {
      "text/plain": [
       "Ttest_indResult(statistic=nan, pvalue=nan)"
      ]
     },
     "execution_count": 49,
     "metadata": {},
     "output_type": "execute_result"
    }
   ],
   "source": [
    "from scipy import stats\n",
    "stats.ttest_ind(sample1, sample2)"
   ]
  },
  {
   "cell_type": "markdown",
   "metadata": {
    "ExecuteTime": {
     "end_time": "2022-12-23T10:59:02.465434Z",
     "start_time": "2022-12-23T10:59:02.455894Z"
    }
   },
   "source": [
    "Oops? What happened? ttest_ind returns nan in pvalue if you have missing values in samples. You can omit them using nan_policy parameter"
   ]
  },
  {
   "cell_type": "code",
   "execution_count": 51,
   "metadata": {
    "ExecuteTime": {
     "end_time": "2022-12-23T10:59:21.722216Z",
     "start_time": "2022-12-23T10:59:21.676862Z"
    }
   },
   "outputs": [
    {
     "data": {
      "text/plain": [
       "Ttest_indResult(statistic=17.643952644772682, pvalue=2.8967701146843295e-66)"
      ]
     },
     "execution_count": 51,
     "metadata": {},
     "output_type": "execute_result"
    }
   ],
   "source": [
    "stats.ttest_ind(sample1, sample2,nan_policy='omit')"
   ]
  },
  {
   "cell_type": "code",
   "execution_count": 52,
   "metadata": {
    "ExecuteTime": {
     "end_time": "2022-12-23T11:00:07.841204Z",
     "start_time": "2022-12-23T11:00:07.827018Z"
    }
   },
   "outputs": [
    {
     "data": {
      "text/plain": [
       "2.8967701146843295e-66"
      ]
     },
     "execution_count": 52,
     "metadata": {},
     "output_type": "execute_result"
    }
   ],
   "source": [
    "results = stats.ttest_ind(sample1, sample2,nan_policy='omit')\n",
    "results.pvalue"
   ]
  },
  {
   "cell_type": "markdown",
   "metadata": {},
   "source": [
    "**\"So do we reject or fail to reject our Null Hypothesis?\"**"
   ]
  },
  {
   "cell_type": "markdown",
   "metadata": {},
   "source": [
    "Now we have a statistical proof that bmi is not the same for developed and developing countries and thus, should be included  as a parameter in the models/recommendations of WHO. Let's create a function that will make our testing easier"
   ]
  },
  {
   "cell_type": "code",
   "execution_count": 57,
   "metadata": {
    "ExecuteTime": {
     "end_time": "2022-12-23T11:04:58.266929Z",
     "start_time": "2022-12-23T11:04:58.262654Z"
    }
   },
   "outputs": [],
   "source": [
    "def t_test(sample1,sample2,alpha=0.05):\n",
    "    p_value=stats.ttest_ind(sample1, sample2,nan_policy='omit').pvalue\n",
    "    print(\"p-value:\",p_value)\n",
    "    if p_value<alpha:\n",
    "        print('Reject H0: average of sample 1 is not equal to average of sample 2')\n",
    "    else:\n",
    "        print( \"Fail to Reject H0: We don't have enough evidence to say that averages of sample 1 and sample 2 are not the same\") "
   ]
  },
  {
   "cell_type": "code",
   "execution_count": 58,
   "metadata": {
    "ExecuteTime": {
     "end_time": "2022-12-23T11:04:58.742175Z",
     "start_time": "2022-12-23T11:04:58.732921Z"
    }
   },
   "outputs": [
    {
     "name": "stdout",
     "output_type": "stream",
     "text": [
      "p-value: 3.761954753913859e-93\n",
      "Reject H0: average of sample 1 is not equal to average of sample 2\n"
     ]
    }
   ],
   "source": [
    "t_test(developed['_thinness_5-9_years'],developing['_thinness_5-9_years'],alpha=0.05)"
   ]
  },
  {
   "cell_type": "markdown",
   "metadata": {},
   "source": [
    "**Requirements of t-test, most importantly, about normality and equality of variance.** <br>\n",
    "\"While normality is not that of a strict requirement and t-test can handle slightly abnormal data, the equality of variance should be checked. Stats.ttest_ind even have special parameter for that.![Снимок экрана 2021-09-12 в 22.10.40.png](data:image/png;base64,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)"
   ]
  },
  {
   "cell_type": "markdown",
   "metadata": {},
   "source": [
    "**But how do we define if variances are true or not?** <br>\n",
    "We can use special test for that : **Levene test**. \n",
    "It works just like t-test, but instead of checking averages, it checks the variances\n",
    "        "
   ]
  },
  {
   "cell_type": "code",
   "execution_count": 64,
   "metadata": {
    "ExecuteTime": {
     "end_time": "2022-12-23T11:21:57.149226Z",
     "start_time": "2022-12-23T11:21:57.138976Z"
    }
   },
   "outputs": [
    {
     "name": "stdout",
     "output_type": "stream",
     "text": [
      "Reject H0: variance of sample 1 is not equal to variance of sample 2\n"
     ]
    }
   ],
   "source": [
    "p_value_levene=stats.levene(sample1, sample2).pvalue.astype(int)\n",
    "alpha = 0.05\n",
    "if p_value_levene<alpha:\n",
    "    print('Reject H0: variance of sample 1 is not equal to variance of sample 2')\n",
    "else:\n",
    "    print( \"Fail to Reject H0: We don't have enough evidence to say that variances of sample 1 and sample 2 are not the same\") "
   ]
  },
  {
   "cell_type": "markdown",
   "metadata": {},
   "source": [
    "Let's include that in our function, so that our testing is more accurate"
   ]
  },
  {
   "cell_type": "code",
   "execution_count": 65,
   "metadata": {
    "ExecuteTime": {
     "end_time": "2022-12-23T11:23:37.678095Z",
     "start_time": "2022-12-23T11:23:37.664323Z"
    }
   },
   "outputs": [],
   "source": [
    "def t_test(sample1,sample2,alpha=0.05):\n",
    "    p_value_levene=stats.levene(sample1, sample2).pvalue.astype(int)\n",
    "    if p_value_levene<alpha:\n",
    "        option_var=False\n",
    "    else:\n",
    "        option_var=True\n",
    "    \n",
    "    p_value=stats.ttest_ind(sample1, sample2,nan_policy='omit',equal_var=option_var).pvalue.astype(int)\n",
    "\n",
    "    if p_value<alpha:\n",
    "        print('Reject H0: average of sample 1 is not equal to average of sample 2')\n",
    "    else:\n",
    "        print( \"Fail to Reject H0: We don't have enough evidence to say that averages of sample 1 and sample 2 are not the same\") \n",
    "        "
   ]
  },
  {
   "cell_type": "code",
   "execution_count": 66,
   "metadata": {
    "ExecuteTime": {
     "end_time": "2022-12-23T11:24:42.207401Z",
     "start_time": "2022-12-23T11:24:42.174201Z"
    }
   },
   "outputs": [
    {
     "name": "stdout",
     "output_type": "stream",
     "text": [
      "Reject H0: average of sample 1 is not equal to average of sample 2\n"
     ]
    }
   ],
   "source": [
    "t_test(developed['_thinness__1-19_years'],developing['_thinness__1-19_years'],alpha=0.05)"
   ]
  },
  {
   "cell_type": "markdown",
   "metadata": {},
   "source": [
    "Now we have a function that can test differences between developed and developing countries for all parameters! <br>\n",
    "we can iterate over all of them and find out which parameters are equal and we can exclude them from the model"
   ]
  },
  {
   "cell_type": "code",
   "execution_count": 67,
   "metadata": {
    "ExecuteTime": {
     "end_time": "2022-12-23T11:26:40.337564Z",
     "start_time": "2022-12-23T11:26:40.322125Z"
    }
   },
   "outputs": [
    {
     "name": "stdout",
     "output_type": "stream",
     "text": [
      "life_expectancy_\n",
      "adult_mortality\n",
      "infant_deaths\n",
      "alcohol\n",
      "percentage_expenditure\n",
      "hepatitis_b\n",
      "measles_\n",
      "_bmi_\n",
      "under-five_deaths_\n",
      "polio\n",
      "total_expenditure\n",
      "diphtheria_\n",
      "_hiv/aids\n",
      "gdp\n",
      "population\n",
      "_thinness__1-19_years\n",
      "_thinness_5-9_years\n",
      "income_composition_of_resources\n",
      "schooling\n"
     ]
    }
   ],
   "source": [
    "for i in data.columns:\n",
    "    if i in ['country','year','status']:\n",
    "        continue\n",
    "    else:\n",
    "        print(i)"
   ]
  },
  {
   "cell_type": "code",
   "execution_count": 68,
   "metadata": {
    "ExecuteTime": {
     "end_time": "2022-12-23T11:28:01.743945Z",
     "start_time": "2022-12-23T11:28:01.635495Z"
    }
   },
   "outputs": [
    {
     "name": "stdout",
     "output_type": "stream",
     "text": [
      "Reslut for : life_expectancy_\n",
      "Reject H0: average of sample 1 is not equal to average of sample 2\n",
      "----------------------------\n",
      "Reslut for : adult_mortality\n",
      "Reject H0: average of sample 1 is not equal to average of sample 2\n",
      "----------------------------\n",
      "Reslut for : infant_deaths\n",
      "Reject H0: average of sample 1 is not equal to average of sample 2\n",
      "----------------------------\n",
      "Reslut for : alcohol\n",
      "Reject H0: average of sample 1 is not equal to average of sample 2\n",
      "----------------------------\n",
      "Reslut for : percentage_expenditure\n",
      "Reject H0: average of sample 1 is not equal to average of sample 2\n",
      "----------------------------\n",
      "Reslut for : hepatitis_b\n",
      "Reject H0: average of sample 1 is not equal to average of sample 2\n",
      "----------------------------\n",
      "Reslut for : measles_\n",
      "Reject H0: average of sample 1 is not equal to average of sample 2\n",
      "----------------------------\n",
      "Reslut for : _bmi_\n",
      "Reject H0: average of sample 1 is not equal to average of sample 2\n",
      "----------------------------\n",
      "Reslut for : under-five_deaths_\n",
      "Reject H0: average of sample 1 is not equal to average of sample 2\n",
      "----------------------------\n",
      "Reslut for : polio\n",
      "Reject H0: average of sample 1 is not equal to average of sample 2\n",
      "----------------------------\n",
      "Reslut for : total_expenditure\n",
      "Reject H0: average of sample 1 is not equal to average of sample 2\n",
      "----------------------------\n",
      "Reslut for : diphtheria_\n",
      "Reject H0: average of sample 1 is not equal to average of sample 2\n",
      "----------------------------\n",
      "Reslut for : _hiv/aids\n",
      "Reject H0: average of sample 1 is not equal to average of sample 2\n",
      "----------------------------\n",
      "Reslut for : gdp\n",
      "Reject H0: average of sample 1 is not equal to average of sample 2\n",
      "----------------------------\n",
      "Reslut for : population\n",
      "Reject H0: average of sample 1 is not equal to average of sample 2\n",
      "----------------------------\n",
      "Reslut for : _thinness__1-19_years\n",
      "Reject H0: average of sample 1 is not equal to average of sample 2\n",
      "----------------------------\n",
      "Reslut for : _thinness_5-9_years\n",
      "Reject H0: average of sample 1 is not equal to average of sample 2\n",
      "----------------------------\n",
      "Reslut for : income_composition_of_resources\n",
      "Reject H0: average of sample 1 is not equal to average of sample 2\n",
      "----------------------------\n",
      "Reslut for : schooling\n",
      "Reject H0: average of sample 1 is not equal to average of sample 2\n",
      "----------------------------\n"
     ]
    }
   ],
   "source": [
    "for i in data.columns:\n",
    "    if i in ['country','year','status']:\n",
    "        continue\n",
    "    else:\n",
    "        print('Reslut for :',i)\n",
    "        t_test(developed[i],developing[i],alpha=0.05)\n",
    "        print('----------------------------')"
   ]
  },
  {
   "cell_type": "markdown",
   "metadata": {},
   "source": [
    "Great! We successfully ran an hypothesis testing on all the parameters <br>\n",
    "and now we know , that we **can't exclude anything from the model**, since all of the parameters are indeed different for two types of countries"
   ]
  },
  {
   "cell_type": "markdown",
   "metadata": {},
   "source": [
    "But, while groups are different in the parameters, WHO also wants to know whether the \"cut off\" that they make in determing whether country is developed or developing is accurate. They have doubts and think that maybe top developing and worst developed countries are not that far from each other. Let's check that also"
   ]
  },
  {
   "cell_type": "markdown",
   "metadata": {},
   "source": [
    "\n",
    "- Define top developing country and worse developed country based on max and min gdp in the group accordingly. \n",
    "- create sample datasets with all parameters only for these countries\n",
    "- check the differences between these two countries in all of the parameters\n",
    "- conclude whether these countries are really different and WHO's methodology works. If they're the same, in which way?"
   ]
  },
  {
   "cell_type": "code",
   "execution_count": 73,
   "metadata": {
    "ExecuteTime": {
     "end_time": "2022-12-23T11:34:50.400539Z",
     "start_time": "2022-12-23T11:34:50.394638Z"
    }
   },
   "outputs": [
    {
     "data": {
      "text/plain": [
       "'Romania'"
      ]
     },
     "execution_count": 73,
     "metadata": {},
     "output_type": "execute_result"
    }
   ],
   "source": [
    "b_depd_country=developed[developed.gdp==developed.gdp.min()]['country'].iloc[0]\n",
    "b_depd_country"
   ]
  },
  {
   "cell_type": "code",
   "execution_count": 72,
   "metadata": {
    "ExecuteTime": {
     "end_time": "2022-12-23T11:34:34.756244Z",
     "start_time": "2022-12-23T11:34:34.747054Z"
    }
   },
   "outputs": [
    {
     "data": {
      "text/plain": [
       "'Qatar'"
      ]
     },
     "execution_count": 72,
     "metadata": {},
     "output_type": "execute_result"
    }
   ],
   "source": [
    "t_deping_country=developing[developing.gdp==developing.gdp.max()]['country'].iloc[0]\n",
    "t_deping_country"
   ]
  },
  {
   "cell_type": "code",
   "execution_count": 74,
   "metadata": {
    "ExecuteTime": {
     "end_time": "2022-12-23T11:34:58.450777Z",
     "start_time": "2022-12-23T11:34:58.423441Z"
    }
   },
   "outputs": [],
   "source": [
    "bottom_developed=developed.query('country==@b_depd_country')\n",
    "top_developing=developing.query('country==@t_deping_country')"
   ]
  },
  {
   "cell_type": "code",
   "execution_count": 75,
   "metadata": {
    "ExecuteTime": {
     "end_time": "2022-12-23T11:35:16.520948Z",
     "start_time": "2022-12-23T11:35:16.480423Z"
    }
   },
   "outputs": [
    {
     "data": {
      "text/html": [
       "<div>\n",
       "<style scoped>\n",
       "    .dataframe tbody tr th:only-of-type {\n",
       "        vertical-align: middle;\n",
       "    }\n",
       "\n",
       "    .dataframe tbody tr th {\n",
       "        vertical-align: top;\n",
       "    }\n",
       "\n",
       "    .dataframe thead th {\n",
       "        text-align: right;\n",
       "    }\n",
       "</style>\n",
       "<table border=\"1\" class=\"dataframe\">\n",
       "  <thead>\n",
       "    <tr style=\"text-align: right;\">\n",
       "      <th></th>\n",
       "      <th>country</th>\n",
       "      <th>year</th>\n",
       "      <th>status</th>\n",
       "      <th>life_expectancy_</th>\n",
       "      <th>adult_mortality</th>\n",
       "      <th>infant_deaths</th>\n",
       "      <th>alcohol</th>\n",
       "      <th>percentage_expenditure</th>\n",
       "      <th>hepatitis_b</th>\n",
       "      <th>measles_</th>\n",
       "      <th>...</th>\n",
       "      <th>polio</th>\n",
       "      <th>total_expenditure</th>\n",
       "      <th>diphtheria_</th>\n",
       "      <th>_hiv/aids</th>\n",
       "      <th>gdp</th>\n",
       "      <th>population</th>\n",
       "      <th>_thinness__1-19_years</th>\n",
       "      <th>_thinness_5-9_years</th>\n",
       "      <th>income_composition_of_resources</th>\n",
       "      <th>schooling</th>\n",
       "    </tr>\n",
       "  </thead>\n",
       "  <tbody>\n",
       "    <tr>\n",
       "      <th>2119</th>\n",
       "      <td>Romania</td>\n",
       "      <td>2015</td>\n",
       "      <td>Developed</td>\n",
       "      <td>75.0</td>\n",
       "      <td>133.0</td>\n",
       "      <td>2</td>\n",
       "      <td>NaN</td>\n",
       "      <td>0.000000</td>\n",
       "      <td>9.0</td>\n",
       "      <td>4</td>\n",
       "      <td>...</td>\n",
       "      <td>89.0</td>\n",
       "      <td>NaN</td>\n",
       "      <td>89.0</td>\n",
       "      <td>0.1</td>\n",
       "      <td>8958.788593</td>\n",
       "      <td>19815481.0</td>\n",
       "      <td>2.5</td>\n",
       "      <td>2.7</td>\n",
       "      <td>0.798</td>\n",
       "      <td>14.7</td>\n",
       "    </tr>\n",
       "    <tr>\n",
       "      <th>2120</th>\n",
       "      <td>Romania</td>\n",
       "      <td>2014</td>\n",
       "      <td>Developed</td>\n",
       "      <td>74.8</td>\n",
       "      <td>135.0</td>\n",
       "      <td>2</td>\n",
       "      <td>0.01</td>\n",
       "      <td>1.576409</td>\n",
       "      <td>94.0</td>\n",
       "      <td>59</td>\n",
       "      <td>...</td>\n",
       "      <td>94.0</td>\n",
       "      <td>5.57</td>\n",
       "      <td>94.0</td>\n",
       "      <td>0.1</td>\n",
       "      <td>12.277330</td>\n",
       "      <td>1998979.0</td>\n",
       "      <td>2.6</td>\n",
       "      <td>2.8</td>\n",
       "      <td>0.797</td>\n",
       "      <td>14.7</td>\n",
       "    </tr>\n",
       "    <tr>\n",
       "      <th>2121</th>\n",
       "      <td>Romania</td>\n",
       "      <td>2013</td>\n",
       "      <td>Developed</td>\n",
       "      <td>74.6</td>\n",
       "      <td>138.0</td>\n",
       "      <td>2</td>\n",
       "      <td>9.59</td>\n",
       "      <td>1230.748231</td>\n",
       "      <td>96.0</td>\n",
       "      <td>1159</td>\n",
       "      <td>...</td>\n",
       "      <td>88.0</td>\n",
       "      <td>5.60</td>\n",
       "      <td>92.0</td>\n",
       "      <td>0.1</td>\n",
       "      <td>9585.266593</td>\n",
       "      <td>19983693.0</td>\n",
       "      <td>2.7</td>\n",
       "      <td>2.9</td>\n",
       "      <td>0.794</td>\n",
       "      <td>14.7</td>\n",
       "    </tr>\n",
       "    <tr>\n",
       "      <th>2122</th>\n",
       "      <td>Romania</td>\n",
       "      <td>2012</td>\n",
       "      <td>Developed</td>\n",
       "      <td>74.4</td>\n",
       "      <td>138.0</td>\n",
       "      <td>2</td>\n",
       "      <td>9.58</td>\n",
       "      <td>1078.358105</td>\n",
       "      <td>96.0</td>\n",
       "      <td>7450</td>\n",
       "      <td>...</td>\n",
       "      <td>92.0</td>\n",
       "      <td>5.48</td>\n",
       "      <td>91.0</td>\n",
       "      <td>0.1</td>\n",
       "      <td>8558.397660</td>\n",
       "      <td>25835.0</td>\n",
       "      <td>2.8</td>\n",
       "      <td>3.0</td>\n",
       "      <td>0.797</td>\n",
       "      <td>15.3</td>\n",
       "    </tr>\n",
       "    <tr>\n",
       "      <th>2123</th>\n",
       "      <td>Romania</td>\n",
       "      <td>2011</td>\n",
       "      <td>Developed</td>\n",
       "      <td>74.3</td>\n",
       "      <td>139.0</td>\n",
       "      <td>2</td>\n",
       "      <td>9.10</td>\n",
       "      <td>10.325889</td>\n",
       "      <td>96.0</td>\n",
       "      <td>4189</td>\n",
       "      <td>...</td>\n",
       "      <td>89.0</td>\n",
       "      <td>5.53</td>\n",
       "      <td>89.0</td>\n",
       "      <td>0.1</td>\n",
       "      <td>92.277825</td>\n",
       "      <td>2147528.0</td>\n",
       "      <td>2.9</td>\n",
       "      <td>3.1</td>\n",
       "      <td>0.798</td>\n",
       "      <td>15.7</td>\n",
       "    </tr>\n",
       "  </tbody>\n",
       "</table>\n",
       "<p>5 rows × 22 columns</p>\n",
       "</div>"
      ],
      "text/plain": [
       "      country  year     status  life_expectancy_  adult_mortality  \\\n",
       "2119  Romania  2015  Developed              75.0            133.0   \n",
       "2120  Romania  2014  Developed              74.8            135.0   \n",
       "2121  Romania  2013  Developed              74.6            138.0   \n",
       "2122  Romania  2012  Developed              74.4            138.0   \n",
       "2123  Romania  2011  Developed              74.3            139.0   \n",
       "\n",
       "      infant_deaths  alcohol  percentage_expenditure  hepatitis_b  measles_  \\\n",
       "2119              2      NaN                0.000000          9.0         4   \n",
       "2120              2     0.01                1.576409         94.0        59   \n",
       "2121              2     9.59             1230.748231         96.0      1159   \n",
       "2122              2     9.58             1078.358105         96.0      7450   \n",
       "2123              2     9.10               10.325889         96.0      4189   \n",
       "\n",
       "      ...  polio  total_expenditure  diphtheria_  _hiv/aids          gdp  \\\n",
       "2119  ...   89.0                NaN         89.0        0.1  8958.788593   \n",
       "2120  ...   94.0               5.57         94.0        0.1    12.277330   \n",
       "2121  ...   88.0               5.60         92.0        0.1  9585.266593   \n",
       "2122  ...   92.0               5.48         91.0        0.1  8558.397660   \n",
       "2123  ...   89.0               5.53         89.0        0.1    92.277825   \n",
       "\n",
       "      population  _thinness__1-19_years  _thinness_5-9_years  \\\n",
       "2119  19815481.0                    2.5                  2.7   \n",
       "2120   1998979.0                    2.6                  2.8   \n",
       "2121  19983693.0                    2.7                  2.9   \n",
       "2122     25835.0                    2.8                  3.0   \n",
       "2123   2147528.0                    2.9                  3.1   \n",
       "\n",
       "      income_composition_of_resources  schooling  \n",
       "2119                            0.798       14.7  \n",
       "2120                            0.797       14.7  \n",
       "2121                            0.794       14.7  \n",
       "2122                            0.797       15.3  \n",
       "2123                            0.798       15.7  \n",
       "\n",
       "[5 rows x 22 columns]"
      ]
     },
     "execution_count": 75,
     "metadata": {},
     "output_type": "execute_result"
    }
   ],
   "source": [
    "bottom_developed.head()"
   ]
  },
  {
   "cell_type": "code",
   "execution_count": 76,
   "metadata": {
    "ExecuteTime": {
     "end_time": "2022-12-23T11:35:28.734580Z",
     "start_time": "2022-12-23T11:35:28.705292Z"
    }
   },
   "outputs": [
    {
     "data": {
      "text/html": [
       "<div>\n",
       "<style scoped>\n",
       "    .dataframe tbody tr th:only-of-type {\n",
       "        vertical-align: middle;\n",
       "    }\n",
       "\n",
       "    .dataframe tbody tr th {\n",
       "        vertical-align: top;\n",
       "    }\n",
       "\n",
       "    .dataframe thead th {\n",
       "        text-align: right;\n",
       "    }\n",
       "</style>\n",
       "<table border=\"1\" class=\"dataframe\">\n",
       "  <thead>\n",
       "    <tr style=\"text-align: right;\">\n",
       "      <th></th>\n",
       "      <th>country</th>\n",
       "      <th>year</th>\n",
       "      <th>status</th>\n",
       "      <th>life_expectancy_</th>\n",
       "      <th>adult_mortality</th>\n",
       "      <th>infant_deaths</th>\n",
       "      <th>alcohol</th>\n",
       "      <th>percentage_expenditure</th>\n",
       "      <th>hepatitis_b</th>\n",
       "      <th>measles_</th>\n",
       "      <th>...</th>\n",
       "      <th>polio</th>\n",
       "      <th>total_expenditure</th>\n",
       "      <th>diphtheria_</th>\n",
       "      <th>_hiv/aids</th>\n",
       "      <th>gdp</th>\n",
       "      <th>population</th>\n",
       "      <th>_thinness__1-19_years</th>\n",
       "      <th>_thinness_5-9_years</th>\n",
       "      <th>income_composition_of_resources</th>\n",
       "      <th>schooling</th>\n",
       "    </tr>\n",
       "  </thead>\n",
       "  <tbody>\n",
       "    <tr>\n",
       "      <th>2071</th>\n",
       "      <td>Qatar</td>\n",
       "      <td>2015</td>\n",
       "      <td>Developing</td>\n",
       "      <td>78.2</td>\n",
       "      <td>68.0</td>\n",
       "      <td>0</td>\n",
       "      <td>NaN</td>\n",
       "      <td>0.000000</td>\n",
       "      <td>99.0</td>\n",
       "      <td>18</td>\n",
       "      <td>...</td>\n",
       "      <td>99.0</td>\n",
       "      <td>NaN</td>\n",
       "      <td>99.0</td>\n",
       "      <td>0.1</td>\n",
       "      <td>66346.52267</td>\n",
       "      <td>NaN</td>\n",
       "      <td>5.2</td>\n",
       "      <td>4.9</td>\n",
       "      <td>0.855</td>\n",
       "      <td>13.4</td>\n",
       "    </tr>\n",
       "    <tr>\n",
       "      <th>2072</th>\n",
       "      <td>Qatar</td>\n",
       "      <td>2014</td>\n",
       "      <td>Developing</td>\n",
       "      <td>78.1</td>\n",
       "      <td>69.0</td>\n",
       "      <td>0</td>\n",
       "      <td>1.15</td>\n",
       "      <td>5063.513104</td>\n",
       "      <td>89.0</td>\n",
       "      <td>46</td>\n",
       "      <td>...</td>\n",
       "      <td>99.0</td>\n",
       "      <td>2.19</td>\n",
       "      <td>89.0</td>\n",
       "      <td>0.1</td>\n",
       "      <td>86852.71190</td>\n",
       "      <td>NaN</td>\n",
       "      <td>5.2</td>\n",
       "      <td>4.8</td>\n",
       "      <td>0.854</td>\n",
       "      <td>13.4</td>\n",
       "    </tr>\n",
       "    <tr>\n",
       "      <th>2073</th>\n",
       "      <td>Qatar</td>\n",
       "      <td>2013</td>\n",
       "      <td>Developing</td>\n",
       "      <td>77.9</td>\n",
       "      <td>7.0</td>\n",
       "      <td>0</td>\n",
       "      <td>1.20</td>\n",
       "      <td>515.073479</td>\n",
       "      <td>97.0</td>\n",
       "      <td>73</td>\n",
       "      <td>...</td>\n",
       "      <td>99.0</td>\n",
       "      <td>2.15</td>\n",
       "      <td>97.0</td>\n",
       "      <td>0.1</td>\n",
       "      <td>8834.87958</td>\n",
       "      <td>NaN</td>\n",
       "      <td>5.1</td>\n",
       "      <td>4.7</td>\n",
       "      <td>0.843</td>\n",
       "      <td>13.4</td>\n",
       "    </tr>\n",
       "    <tr>\n",
       "      <th>2074</th>\n",
       "      <td>Qatar</td>\n",
       "      <td>2012</td>\n",
       "      <td>Developing</td>\n",
       "      <td>77.8</td>\n",
       "      <td>72.0</td>\n",
       "      <td>0</td>\n",
       "      <td>1.13</td>\n",
       "      <td>5163.329180</td>\n",
       "      <td>93.0</td>\n",
       "      <td>160</td>\n",
       "      <td>...</td>\n",
       "      <td>93.0</td>\n",
       "      <td>2.16</td>\n",
       "      <td>92.0</td>\n",
       "      <td>0.1</td>\n",
       "      <td>88564.82298</td>\n",
       "      <td>NaN</td>\n",
       "      <td>5.1</td>\n",
       "      <td>4.7</td>\n",
       "      <td>0.837</td>\n",
       "      <td>13.4</td>\n",
       "    </tr>\n",
       "    <tr>\n",
       "      <th>2075</th>\n",
       "      <td>Qatar</td>\n",
       "      <td>2011</td>\n",
       "      <td>Developing</td>\n",
       "      <td>77.5</td>\n",
       "      <td>74.0</td>\n",
       "      <td>0</td>\n",
       "      <td>1.16</td>\n",
       "      <td>4409.170670</td>\n",
       "      <td>93.0</td>\n",
       "      <td>101</td>\n",
       "      <td>...</td>\n",
       "      <td>92.0</td>\n",
       "      <td>1.93</td>\n",
       "      <td>93.0</td>\n",
       "      <td>0.1</td>\n",
       "      <td>85948.74600</td>\n",
       "      <td>NaN</td>\n",
       "      <td>5.1</td>\n",
       "      <td>4.6</td>\n",
       "      <td>0.827</td>\n",
       "      <td>12.4</td>\n",
       "    </tr>\n",
       "  </tbody>\n",
       "</table>\n",
       "<p>5 rows × 22 columns</p>\n",
       "</div>"
      ],
      "text/plain": [
       "     country  year      status  life_expectancy_  adult_mortality  \\\n",
       "2071   Qatar  2015  Developing              78.2             68.0   \n",
       "2072   Qatar  2014  Developing              78.1             69.0   \n",
       "2073   Qatar  2013  Developing              77.9              7.0   \n",
       "2074   Qatar  2012  Developing              77.8             72.0   \n",
       "2075   Qatar  2011  Developing              77.5             74.0   \n",
       "\n",
       "      infant_deaths  alcohol  percentage_expenditure  hepatitis_b  measles_  \\\n",
       "2071              0      NaN                0.000000         99.0        18   \n",
       "2072              0     1.15             5063.513104         89.0        46   \n",
       "2073              0     1.20              515.073479         97.0        73   \n",
       "2074              0     1.13             5163.329180         93.0       160   \n",
       "2075              0     1.16             4409.170670         93.0       101   \n",
       "\n",
       "      ...  polio  total_expenditure  diphtheria_  _hiv/aids          gdp  \\\n",
       "2071  ...   99.0                NaN         99.0        0.1  66346.52267   \n",
       "2072  ...   99.0               2.19         89.0        0.1  86852.71190   \n",
       "2073  ...   99.0               2.15         97.0        0.1   8834.87958   \n",
       "2074  ...   93.0               2.16         92.0        0.1  88564.82298   \n",
       "2075  ...   92.0               1.93         93.0        0.1  85948.74600   \n",
       "\n",
       "      population  _thinness__1-19_years  _thinness_5-9_years  \\\n",
       "2071         NaN                    5.2                  4.9   \n",
       "2072         NaN                    5.2                  4.8   \n",
       "2073         NaN                    5.1                  4.7   \n",
       "2074         NaN                    5.1                  4.7   \n",
       "2075         NaN                    5.1                  4.6   \n",
       "\n",
       "      income_composition_of_resources  schooling  \n",
       "2071                            0.855       13.4  \n",
       "2072                            0.854       13.4  \n",
       "2073                            0.843       13.4  \n",
       "2074                            0.837       13.4  \n",
       "2075                            0.827       12.4  \n",
       "\n",
       "[5 rows x 22 columns]"
      ]
     },
     "execution_count": 76,
     "metadata": {},
     "output_type": "execute_result"
    }
   ],
   "source": [
    "top_developing.head()"
   ]
  },
  {
   "cell_type": "code",
   "execution_count": 77,
   "metadata": {
    "ExecuteTime": {
     "end_time": "2022-12-23T11:36:17.454350Z",
     "start_time": "2022-12-23T11:36:17.372820Z"
    }
   },
   "outputs": [
    {
     "name": "stdout",
     "output_type": "stream",
     "text": [
      "Reslut for : life_expectancy_\n",
      "Reject H0: average of sample 1 is not equal to average of sample 2\n",
      "----------------------------\n",
      "Reslut for : adult_mortality\n",
      "Reject H0: average of sample 1 is not equal to average of sample 2\n",
      "----------------------------\n",
      "Reslut for : infant_deaths\n",
      "Reject H0: average of sample 1 is not equal to average of sample 2\n",
      "----------------------------\n",
      "Reslut for : alcohol\n",
      "Reject H0: average of sample 1 is not equal to average of sample 2\n",
      "----------------------------\n",
      "Reslut for : percentage_expenditure\n",
      "Reject H0: average of sample 1 is not equal to average of sample 2\n",
      "----------------------------\n",
      "Reslut for : hepatitis_b\n",
      "Reject H0: average of sample 1 is not equal to average of sample 2\n",
      "----------------------------\n",
      "Reslut for : measles_\n",
      "Reject H0: average of sample 1 is not equal to average of sample 2\n",
      "----------------------------\n",
      "Reslut for : _bmi_\n",
      "Reject H0: average of sample 1 is not equal to average of sample 2\n",
      "----------------------------\n",
      "Reslut for : under-five_deaths_\n",
      "Reject H0: average of sample 1 is not equal to average of sample 2\n",
      "----------------------------\n",
      "Reslut for : polio\n",
      "Reject H0: average of sample 1 is not equal to average of sample 2\n",
      "----------------------------\n",
      "Reslut for : total_expenditure\n",
      "Reject H0: average of sample 1 is not equal to average of sample 2\n",
      "----------------------------\n",
      "Reslut for : diphtheria_\n",
      "Reject H0: average of sample 1 is not equal to average of sample 2\n",
      "----------------------------\n",
      "Reslut for : _hiv/aids\n",
      "Reject H0: average of sample 1 is not equal to average of sample 2\n",
      "----------------------------\n",
      "Reslut for : gdp\n",
      "Reject H0: average of sample 1 is not equal to average of sample 2\n",
      "----------------------------\n",
      "Reslut for : population\n",
      "Fail to Reject H0: We don't have enough evidence to say that averages of sample 1         and sample 2 are not the same\n",
      "----------------------------\n",
      "Reslut for : _thinness__1-19_years\n",
      "Reject H0: average of sample 1 is not equal to average of sample 2\n",
      "----------------------------\n",
      "Reslut for : _thinness_5-9_years\n",
      "Reject H0: average of sample 1 is not equal to average of sample 2\n",
      "----------------------------\n",
      "Reslut for : income_composition_of_resources\n",
      "Reject H0: average of sample 1 is not equal to average of sample 2\n",
      "----------------------------\n",
      "Reslut for : schooling\n",
      "Reject H0: average of sample 1 is not equal to average of sample 2\n",
      "----------------------------\n"
     ]
    },
    {
     "name": "stderr",
     "output_type": "stream",
     "text": [
      "/opt/anaconda3/lib/python3.7/site-packages/scipy/stats/morestats.py:2352: RuntimeWarning: invalid value encountered in double_scalars\n",
      "  W = numer / denom\n"
     ]
    }
   ],
   "source": [
    "for i in data.columns:\n",
    "    if i in ['country','year','status']:\n",
    "        continue\n",
    "    else:\n",
    "        print('Reslut for :',i)\n",
    "        t_test(bottom_developed[i],top_developing[i],alpha=0.05)\n",
    "        print('----------------------------')"
   ]
  },
  {
   "cell_type": "markdown",
   "metadata": {},
   "source": [
    "we can make conclusion that these two countries indeed are different,except for population. "
   ]
  },
  {
   "cell_type": "markdown",
   "metadata": {},
   "source": [
    "**Overall conclusion:** we can assure WHO that none of the parameters should be excluded from their models, cause values for countries indeed vary and the methodology of splitting really works"
   ]
  },
  {
   "cell_type": "code",
   "execution_count": null,
   "metadata": {},
   "outputs": [],
   "source": []
  }
 ],
 "metadata": {
  "colab": {
   "provenance": []
  },
  "kernelspec": {
   "display_name": "Python 3",
   "language": "python",
   "name": "python3"
  },
  "language_info": {
   "codemirror_mode": {
    "name": "ipython",
    "version": 3
   },
   "file_extension": ".py",
   "mimetype": "text/x-python",
   "name": "python",
   "nbconvert_exporter": "python",
   "pygments_lexer": "ipython3",
   "version": "3.7.4"
  },
  "toc": {
   "base_numbering": 1,
   "nav_menu": {},
   "number_sections": true,
   "sideBar": true,
   "skip_h1_title": false,
   "title_cell": "Table of Contents",
   "title_sidebar": "Contents",
   "toc_cell": false,
   "toc_position": {},
   "toc_section_display": true,
   "toc_window_display": false
  }
 },
 "nbformat": 4,
 "nbformat_minor": 1
}
